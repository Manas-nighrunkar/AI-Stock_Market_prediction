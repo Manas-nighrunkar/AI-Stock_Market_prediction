{
  "nbformat": 4,
  "nbformat_minor": 0,
  "metadata": {
    "colab": {
      "name": "stock_price_lstm.ipynb",
      "provenance": [],
      "collapsed_sections": []
    },
    "kernelspec": {
      "name": "python3",
      "display_name": "Python 3"
    }
  },
  "cells": [
    {
      "cell_type": "code",
      "metadata": {
        "id": "TIwksPdUhxGT"
      },
      "source": [
        "### keras and tensorflow 2.0 "
      ],
      "execution_count": null,
      "outputs": []
    },
    {
      "cell_type": "code",
      "metadata": {
        "id": "5wxzFIUpKytR"
      },
      "source": [
        "# step - 1 we will collect the stock data -- AAPL"
      ],
      "execution_count": null,
      "outputs": []
    },
    {
      "cell_type": "code",
      "metadata": {
        "id": "v_emzLEHggR8"
      },
      "source": [
        "import pandas_datareader as pdr\n",
        "key = '190a93234e0735f0b09d13e542689e22a639744d'"
      ],
      "execution_count": 1,
      "outputs": []
    },
    {
      "cell_type": "code",
      "metadata": {
        "id": "eA8Qno9OhKqm"
      },
      "source": [
        "### reading data of apple stock market through tingo\n",
        "df = pdr.get_data_tiingo('AAPL', api_key = key)"
      ],
      "execution_count": 2,
      "outputs": []
    },
    {
      "cell_type": "code",
      "metadata": {
        "id": "D1Xr3B95HTtk"
      },
      "source": [
        "# saving all data to csv file\n",
        "df.to_csv('AAPL.csv')"
      ],
      "execution_count": 3,
      "outputs": []
    },
    {
      "cell_type": "code",
      "metadata": {
        "id": "4T8GU55NHpf0"
      },
      "source": [
        "import pandas as pd"
      ],
      "execution_count": 4,
      "outputs": []
    },
    {
      "cell_type": "code",
      "metadata": {
        "id": "6q3nq7v3HtSJ"
      },
      "source": [
        "df = pd.read_csv('AAPL.csv')"
      ],
      "execution_count": 5,
      "outputs": []
    },
    {
      "cell_type": "code",
      "metadata": {
        "id": "Enjhbm_QH3fM",
        "outputId": "fb789436-739f-4963-a6f1-51d1a05c8d50",
        "colab": {
          "base_uri": "https://localhost:8080/",
          "height": 299
        }
      },
      "source": [
        "df.head()"
      ],
      "execution_count": 6,
      "outputs": [
        {
          "output_type": "execute_result",
          "data": {
            "text/html": [
              "<div>\n",
              "<style scoped>\n",
              "    .dataframe tbody tr th:only-of-type {\n",
              "        vertical-align: middle;\n",
              "    }\n",
              "\n",
              "    .dataframe tbody tr th {\n",
              "        vertical-align: top;\n",
              "    }\n",
              "\n",
              "    .dataframe thead th {\n",
              "        text-align: right;\n",
              "    }\n",
              "</style>\n",
              "<table border=\"1\" class=\"dataframe\">\n",
              "  <thead>\n",
              "    <tr style=\"text-align: right;\">\n",
              "      <th></th>\n",
              "      <th>symbol</th>\n",
              "      <th>date</th>\n",
              "      <th>close</th>\n",
              "      <th>high</th>\n",
              "      <th>low</th>\n",
              "      <th>open</th>\n",
              "      <th>volume</th>\n",
              "      <th>adjClose</th>\n",
              "      <th>adjHigh</th>\n",
              "      <th>adjLow</th>\n",
              "      <th>adjOpen</th>\n",
              "      <th>adjVolume</th>\n",
              "      <th>divCash</th>\n",
              "      <th>splitFactor</th>\n",
              "    </tr>\n",
              "  </thead>\n",
              "  <tbody>\n",
              "    <tr>\n",
              "      <th>0</th>\n",
              "      <td>AAPL</td>\n",
              "      <td>2015-10-29 00:00:00+00:00</td>\n",
              "      <td>120.53</td>\n",
              "      <td>120.69</td>\n",
              "      <td>118.27</td>\n",
              "      <td>118.70</td>\n",
              "      <td>51227334</td>\n",
              "      <td>27.841853</td>\n",
              "      <td>27.878813</td>\n",
              "      <td>27.319804</td>\n",
              "      <td>27.419132</td>\n",
              "      <td>204909336</td>\n",
              "      <td>0.0</td>\n",
              "      <td>1.0</td>\n",
              "    </tr>\n",
              "    <tr>\n",
              "      <th>1</th>\n",
              "      <td>AAPL</td>\n",
              "      <td>2015-10-30 00:00:00+00:00</td>\n",
              "      <td>119.50</td>\n",
              "      <td>121.22</td>\n",
              "      <td>119.45</td>\n",
              "      <td>120.99</td>\n",
              "      <td>49365254</td>\n",
              "      <td>27.603928</td>\n",
              "      <td>28.001240</td>\n",
              "      <td>27.592378</td>\n",
              "      <td>27.948111</td>\n",
              "      <td>197461016</td>\n",
              "      <td>0.0</td>\n",
              "      <td>1.0</td>\n",
              "    </tr>\n",
              "    <tr>\n",
              "      <th>2</th>\n",
              "      <td>AAPL</td>\n",
              "      <td>2015-11-02 00:00:00+00:00</td>\n",
              "      <td>121.18</td>\n",
              "      <td>121.36</td>\n",
              "      <td>119.61</td>\n",
              "      <td>119.87</td>\n",
              "      <td>32203267</td>\n",
              "      <td>27.992000</td>\n",
              "      <td>28.033579</td>\n",
              "      <td>27.629338</td>\n",
              "      <td>27.689396</td>\n",
              "      <td>128813068</td>\n",
              "      <td>0.0</td>\n",
              "      <td>1.0</td>\n",
              "    </tr>\n",
              "    <tr>\n",
              "      <th>3</th>\n",
              "      <td>AAPL</td>\n",
              "      <td>2015-11-03 00:00:00+00:00</td>\n",
              "      <td>122.57</td>\n",
              "      <td>123.49</td>\n",
              "      <td>120.70</td>\n",
              "      <td>120.79</td>\n",
              "      <td>45518976</td>\n",
              "      <td>28.313084</td>\n",
              "      <td>28.525599</td>\n",
              "      <td>27.881122</td>\n",
              "      <td>27.901912</td>\n",
              "      <td>182075904</td>\n",
              "      <td>0.0</td>\n",
              "      <td>1.0</td>\n",
              "    </tr>\n",
              "    <tr>\n",
              "      <th>4</th>\n",
              "      <td>AAPL</td>\n",
              "      <td>2015-11-04 00:00:00+00:00</td>\n",
              "      <td>122.00</td>\n",
              "      <td>123.82</td>\n",
              "      <td>121.62</td>\n",
              "      <td>123.13</td>\n",
              "      <td>44886050</td>\n",
              "      <td>28.181416</td>\n",
              "      <td>28.601828</td>\n",
              "      <td>28.093638</td>\n",
              "      <td>28.442441</td>\n",
              "      <td>179544200</td>\n",
              "      <td>0.0</td>\n",
              "      <td>1.0</td>\n",
              "    </tr>\n",
              "  </tbody>\n",
              "</table>\n",
              "</div>"
            ],
            "text/plain": [
              "  symbol                       date   close  ...  adjVolume  divCash  splitFactor\n",
              "0   AAPL  2015-10-29 00:00:00+00:00  120.53  ...  204909336      0.0          1.0\n",
              "1   AAPL  2015-10-30 00:00:00+00:00  119.50  ...  197461016      0.0          1.0\n",
              "2   AAPL  2015-11-02 00:00:00+00:00  121.18  ...  128813068      0.0          1.0\n",
              "3   AAPL  2015-11-03 00:00:00+00:00  122.57  ...  182075904      0.0          1.0\n",
              "4   AAPL  2015-11-04 00:00:00+00:00  122.00  ...  179544200      0.0          1.0\n",
              "\n",
              "[5 rows x 14 columns]"
            ]
          },
          "metadata": {
            "tags": []
          },
          "execution_count": 6
        }
      ]
    },
    {
      "cell_type": "code",
      "metadata": {
        "id": "rcHn2eliH-Zw",
        "outputId": "312c513c-54f0-42eb-a9e2-bddaf70f26bc",
        "colab": {
          "base_uri": "https://localhost:8080/",
          "height": 299
        }
      },
      "source": [
        "df.tail()"
      ],
      "execution_count": 7,
      "outputs": [
        {
          "output_type": "execute_result",
          "data": {
            "text/html": [
              "<div>\n",
              "<style scoped>\n",
              "    .dataframe tbody tr th:only-of-type {\n",
              "        vertical-align: middle;\n",
              "    }\n",
              "\n",
              "    .dataframe tbody tr th {\n",
              "        vertical-align: top;\n",
              "    }\n",
              "\n",
              "    .dataframe thead th {\n",
              "        text-align: right;\n",
              "    }\n",
              "</style>\n",
              "<table border=\"1\" class=\"dataframe\">\n",
              "  <thead>\n",
              "    <tr style=\"text-align: right;\">\n",
              "      <th></th>\n",
              "      <th>symbol</th>\n",
              "      <th>date</th>\n",
              "      <th>close</th>\n",
              "      <th>high</th>\n",
              "      <th>low</th>\n",
              "      <th>open</th>\n",
              "      <th>volume</th>\n",
              "      <th>adjClose</th>\n",
              "      <th>adjHigh</th>\n",
              "      <th>adjLow</th>\n",
              "      <th>adjOpen</th>\n",
              "      <th>adjVolume</th>\n",
              "      <th>divCash</th>\n",
              "      <th>splitFactor</th>\n",
              "    </tr>\n",
              "  </thead>\n",
              "  <tbody>\n",
              "    <tr>\n",
              "      <th>1252</th>\n",
              "      <td>AAPL</td>\n",
              "      <td>2020-10-20 00:00:00+00:00</td>\n",
              "      <td>117.51</td>\n",
              "      <td>118.980</td>\n",
              "      <td>115.63</td>\n",
              "      <td>116.20</td>\n",
              "      <td>124423728</td>\n",
              "      <td>117.51</td>\n",
              "      <td>118.980</td>\n",
              "      <td>115.63</td>\n",
              "      <td>116.20</td>\n",
              "      <td>124423728</td>\n",
              "      <td>0.0</td>\n",
              "      <td>1.0</td>\n",
              "    </tr>\n",
              "    <tr>\n",
              "      <th>1253</th>\n",
              "      <td>AAPL</td>\n",
              "      <td>2020-10-21 00:00:00+00:00</td>\n",
              "      <td>116.87</td>\n",
              "      <td>118.705</td>\n",
              "      <td>116.45</td>\n",
              "      <td>116.67</td>\n",
              "      <td>89945980</td>\n",
              "      <td>116.87</td>\n",
              "      <td>118.705</td>\n",
              "      <td>116.45</td>\n",
              "      <td>116.67</td>\n",
              "      <td>89945980</td>\n",
              "      <td>0.0</td>\n",
              "      <td>1.0</td>\n",
              "    </tr>\n",
              "    <tr>\n",
              "      <th>1254</th>\n",
              "      <td>AAPL</td>\n",
              "      <td>2020-10-22 00:00:00+00:00</td>\n",
              "      <td>115.75</td>\n",
              "      <td>118.040</td>\n",
              "      <td>114.59</td>\n",
              "      <td>117.45</td>\n",
              "      <td>101987954</td>\n",
              "      <td>115.75</td>\n",
              "      <td>118.040</td>\n",
              "      <td>114.59</td>\n",
              "      <td>117.45</td>\n",
              "      <td>101987954</td>\n",
              "      <td>0.0</td>\n",
              "      <td>1.0</td>\n",
              "    </tr>\n",
              "    <tr>\n",
              "      <th>1255</th>\n",
              "      <td>AAPL</td>\n",
              "      <td>2020-10-23 00:00:00+00:00</td>\n",
              "      <td>115.04</td>\n",
              "      <td>116.550</td>\n",
              "      <td>114.28</td>\n",
              "      <td>116.39</td>\n",
              "      <td>82572645</td>\n",
              "      <td>115.04</td>\n",
              "      <td>116.550</td>\n",
              "      <td>114.28</td>\n",
              "      <td>116.39</td>\n",
              "      <td>82572645</td>\n",
              "      <td>0.0</td>\n",
              "      <td>1.0</td>\n",
              "    </tr>\n",
              "    <tr>\n",
              "      <th>1256</th>\n",
              "      <td>AAPL</td>\n",
              "      <td>2020-10-26 00:00:00+00:00</td>\n",
              "      <td>115.05</td>\n",
              "      <td>116.550</td>\n",
              "      <td>112.88</td>\n",
              "      <td>114.01</td>\n",
              "      <td>111850657</td>\n",
              "      <td>115.05</td>\n",
              "      <td>116.550</td>\n",
              "      <td>112.88</td>\n",
              "      <td>114.01</td>\n",
              "      <td>111850657</td>\n",
              "      <td>0.0</td>\n",
              "      <td>1.0</td>\n",
              "    </tr>\n",
              "  </tbody>\n",
              "</table>\n",
              "</div>"
            ],
            "text/plain": [
              "     symbol                       date   close  ...  adjVolume  divCash  splitFactor\n",
              "1252   AAPL  2020-10-20 00:00:00+00:00  117.51  ...  124423728      0.0          1.0\n",
              "1253   AAPL  2020-10-21 00:00:00+00:00  116.87  ...   89945980      0.0          1.0\n",
              "1254   AAPL  2020-10-22 00:00:00+00:00  115.75  ...  101987954      0.0          1.0\n",
              "1255   AAPL  2020-10-23 00:00:00+00:00  115.04  ...   82572645      0.0          1.0\n",
              "1256   AAPL  2020-10-26 00:00:00+00:00  115.05  ...  111850657      0.0          1.0\n",
              "\n",
              "[5 rows x 14 columns]"
            ]
          },
          "metadata": {
            "tags": []
          },
          "execution_count": 7
        }
      ]
    },
    {
      "cell_type": "code",
      "metadata": {
        "id": "W2YFCI2zIJKF"
      },
      "source": [
        "df1 = df.reset_index()['close']"
      ],
      "execution_count": 8,
      "outputs": []
    },
    {
      "cell_type": "code",
      "metadata": {
        "id": "quOUY6b-IxMv",
        "outputId": "6526689f-8c86-4ec1-de14-3f83a7d788c2",
        "colab": {
          "base_uri": "https://localhost:8080/",
          "height": 34
        }
      },
      "source": [
        "# to see no. of rows\n",
        "df1.shape"
      ],
      "execution_count": 9,
      "outputs": [
        {
          "output_type": "execute_result",
          "data": {
            "text/plain": [
              "(1257,)"
            ]
          },
          "metadata": {
            "tags": []
          },
          "execution_count": 9
        }
      ]
    },
    {
      "cell_type": "code",
      "metadata": {
        "id": "zz73CorLI1CX",
        "outputId": "e549c95c-2047-4943-e9bf-825b9a42cdb1",
        "colab": {
          "base_uri": "https://localhost:8080/",
          "height": 218
        }
      },
      "source": [
        "df1"
      ],
      "execution_count": 10,
      "outputs": [
        {
          "output_type": "execute_result",
          "data": {
            "text/plain": [
              "0       120.53\n",
              "1       119.50\n",
              "2       121.18\n",
              "3       122.57\n",
              "4       122.00\n",
              "         ...  \n",
              "1252    117.51\n",
              "1253    116.87\n",
              "1254    115.75\n",
              "1255    115.04\n",
              "1256    115.05\n",
              "Name: close, Length: 1257, dtype: float64"
            ]
          },
          "metadata": {
            "tags": []
          },
          "execution_count": 10
        }
      ]
    },
    {
      "cell_type": "code",
      "metadata": {
        "id": "6yydVSaSI8_C",
        "outputId": "b07bf096-ceb5-4b74-f428-291f324922f7",
        "colab": {
          "base_uri": "https://localhost:8080/",
          "height": 282
        }
      },
      "source": [
        "import matplotlib.pyplot as plt\n",
        "plt.plot(df1)"
      ],
      "execution_count": 11,
      "outputs": [
        {
          "output_type": "execute_result",
          "data": {
            "text/plain": [
              "[<matplotlib.lines.Line2D at 0x7f3faf753e10>]"
            ]
          },
          "metadata": {
            "tags": []
          },
          "execution_count": 11
        },
        {
          "output_type": "display_data",
          "data": {
            "image/png": "[encoded data removed]",
            "text/plain": [
              "<Figure size 432x288 with 1 Axes>"
            ]
          },
          "metadata": {
            "tags": [],
            "needs_background": "light"
          }
        }
      ]
    },
    {
      "cell_type": "code",
      "metadata": {
        "id": "GFvftkQYJEnC"
      },
      "source": [
        "# LSTM are sensitive to the scale of the data. so we apply MinMax Scalar"
      ],
      "execution_count": 12,
      "outputs": []
    },
    {
      "cell_type": "code",
      "metadata": {
        "id": "NuvHNZsuJYxf"
      },
      "source": [
        "import numpy as np"
      ],
      "execution_count": 13,
      "outputs": []
    },
    {
      "cell_type": "code",
      "metadata": {
        "id": "72EnEIwAJb9O"
      },
      "source": [
        "# need to bring all close value in rang 0-1 to make it easy \n",
        "from sklearn.preprocessing import MinMaxScaler\n",
        "scaler = MinMaxScaler(feature_range = (0,1))\n",
        "df1 = scaler.fit_transform(np.array(df1).reshape(-1,1))"
      ],
      "execution_count": 14,
      "outputs": []
    },
    {
      "cell_type": "code",
      "metadata": {
        "id": "qqRSx8aiJx4K",
        "outputId": "f281afc5-c99b-46ac-82b0-a1e86ddd9533",
        "colab": {
          "base_uri": "https://localhost:8080/",
          "height": 34
        }
      },
      "source": [
        "df1.shape"
      ],
      "execution_count": 15,
      "outputs": [
        {
          "output_type": "execute_result",
          "data": {
            "text/plain": [
              "(1257, 1)"
            ]
          },
          "metadata": {
            "tags": []
          },
          "execution_count": 15
        }
      ]
    },
    {
      "cell_type": "code",
      "metadata": {
        "id": "4rafrB7BJ7Jt",
        "outputId": "95bcf76d-f7c1-46df-f065-6859e577ba08",
        "colab": {
          "base_uri": "https://localhost:8080/",
          "height": 134
        }
      },
      "source": [
        "print(df1)"
      ],
      "execution_count": 16,
      "outputs": [
        {
          "output_type": "stream",
          "text": [
            "[[0.07261575]\n",
            " [0.0701383 ]\n",
            " [0.07417919]\n",
            " ...\n",
            " [0.06111846]\n",
            " [0.0594107 ]\n",
            " [0.05943476]]\n"
          ],
          "name": "stdout"
        }
      ]
    },
    {
      "cell_type": "code",
      "metadata": {
        "id": "Z1XoDAcKJ8Ul"
      },
      "source": [
        "# step - 2 preprocess the data- Train and test"
      ],
      "execution_count": 17,
      "outputs": []
    },
    {
      "cell_type": "code",
      "metadata": {
        "id": "Vr0YVD5hKv8G"
      },
      "source": [
        "# splitting dataset into train and test split\n",
        "# 65% of total data is taken as training data and\n",
        "# other 35% as test data\n",
        "training_size = int(len(df1)*0.65)\n",
        "test_size = len(df1) - training_size\n",
        "train_data, test_data = df1[0:training_size,:],df1[training_size:len(df1),:1]"
      ],
      "execution_count": 18,
      "outputs": []
    },
    {
      "cell_type": "code",
      "metadata": {
        "id": "bUYjs8sJNFKH",
        "outputId": "d54072cf-d14c-4bb7-e841-82b547ccc520",
        "colab": {
          "base_uri": "https://localhost:8080/",
          "height": 34
        }
      },
      "source": [
        "training_size,test_size"
      ],
      "execution_count": 19,
      "outputs": [
        {
          "output_type": "execute_result",
          "data": {
            "text/plain": [
              "(817, 440)"
            ]
          },
          "metadata": {
            "tags": []
          },
          "execution_count": 19
        }
      ]
    },
    {
      "cell_type": "code",
      "metadata": {
        "id": "1KqT35D4NJXL",
        "outputId": "91055b2e-fc5c-4ce6-865a-f43d36646754",
        "colab": {
          "base_uri": "https://localhost:8080/",
          "height": 1000
        }
      },
      "source": [
        "train_data"
      ],
      "execution_count": 20,
      "outputs": [
        {
          "output_type": "execute_result",
          "data": {
            "text/plain": [
              "array([[0.07261575],\n",
              "       [0.0701383 ],\n",
              "       [0.07417919],\n",
              "       [0.07752255],\n",
              "       [0.07615153],\n",
              "       [0.07355382],\n",
              "       [0.07389056],\n",
              "       [0.07271197],\n",
              "       [0.06357186],\n",
              "       [0.06198437],\n",
              "       [0.0610463 ],\n",
              "       [0.05291642],\n",
              "       [0.05733013],\n",
              "       [0.05616356],\n",
              "       [0.06482261],\n",
              "       [0.06840649],\n",
              "       [0.06965725],\n",
              "       [0.06592904],\n",
              "       [0.06864702],\n",
              "       [0.06660253],\n",
              "       [0.06607336],\n",
              "       [0.06725195],\n",
              "       [0.06494287],\n",
              "       [0.06239327],\n",
              "       [0.05979555],\n",
              "       [0.06900782],\n",
              "       [0.06720385],\n",
              "       [0.06708358],\n",
              "       [0.06080577],\n",
              "       [0.06212868],\n",
              "       [0.05493686],\n",
              "       [0.05325316],\n",
              "       [0.04846663],\n",
              "       [0.05051112],\n",
              "       [0.04483464],\n",
              "       [0.03773903],\n",
              "       [0.0408659 ],\n",
              "       [0.04062538],\n",
              "       [0.04394468],\n",
              "       [0.04254961],\n",
              "       [0.03963921],\n",
              "       [0.04425737],\n",
              "       [0.04084185],\n",
              "       [0.03588695],\n",
              "       [0.03610343],\n",
              "       [0.02975346],\n",
              "       [0.02491882],\n",
              "       [0.01469633],\n",
              "       [0.01592303],\n",
              "       [0.01969934],\n",
              "       [0.02313891],\n",
              "       [0.01695731],\n",
              "       [0.02208058],\n",
              "       [0.01633193],\n",
              "       [0.01520144],\n",
              "       [0.01551413],\n",
              "       [0.01433554],\n",
              "       [0.02665063],\n",
              "       [0.02188815],\n",
              "       [0.02321106],\n",
              "       [0.0074083 ],\n",
              "       [0.00901984],\n",
              "       [0.01683704],\n",
              "       [0.01464823],\n",
              "       [0.00995791],\n",
              "       [0.0144558 ],\n",
              "       [0.01505713],\n",
              "       [0.00885147],\n",
              "       [0.01123271],\n",
              "       [0.01118461],\n",
              "       [0.0094528 ],\n",
              "       [0.00808178],\n",
              "       [0.00877931],\n",
              "       [0.01515334],\n",
              "       [0.01871317],\n",
              "       [0.01423933],\n",
              "       [0.01371016],\n",
              "       [0.01573061],\n",
              "       [0.01046302],\n",
              "       [0.01385448],\n",
              "       [0.01544197],\n",
              "       [0.01580277],\n",
              "       [0.0152736 ],\n",
              "       [0.02450992],\n",
              "       [0.02503909],\n",
              "       [0.02684305],\n",
              "       [0.03047505],\n",
              "       [0.02773301],\n",
              "       [0.02571257],\n",
              "       [0.02592904],\n",
              "       [0.02604931],\n",
              "       [0.02867108],\n",
              "       [0.02929645],\n",
              "       [0.03425135],\n",
              "       [0.03759471],\n",
              "       [0.03718581],\n",
              "       [0.03747444],\n",
              "       [0.03745039],\n",
              "       [0.03939868],\n",
              "       [0.03797956],\n",
              "       [0.03687312],\n",
              "       [0.03571858],\n",
              "       [0.04170776],\n",
              "       [0.04622971],\n",
              "       [0.04485869],\n",
              "       [0.04726398],\n",
              "       [0.04998196],\n",
              "       [0.04683103],\n",
              "       [0.04959711],\n",
              "       [0.04377631],\n",
              "       [0.04406494],\n",
              "       [0.04493085],\n",
              "       [0.04834636],\n",
              "       [0.05219483],\n",
              "       [0.05233915],\n",
              "       [0.04692724],\n",
              "       [0.0412267 ],\n",
              "       [0.03985568],\n",
              "       [0.04038485],\n",
              "       [0.03759471],\n",
              "       [0.03689717],\n",
              "       [0.035454  ],\n",
              "       [0.03369814],\n",
              "       [0.01799158],\n",
              "       [0.01079976],\n",
              "       [0.00817799],\n",
              "       [0.00793746],\n",
              "       [0.01164161],\n",
              "       [0.00926037],\n",
              "       [0.00697535],\n",
              "       [0.00572459],\n",
              "       [0.00589296],\n",
              "       [0.0074083 ],\n",
              "       [0.00521948],\n",
              "       [0.        ],\n",
              "       [0.00043295],\n",
              "       [0.00851473],\n",
              "       [0.00757667],\n",
              "       [0.01015033],\n",
              "       [0.00928443],\n",
              "       [0.01173782],\n",
              "       [0.01464823],\n",
              "       [0.018184  ],\n",
              "       [0.02232111],\n",
              "       [0.02422129],\n",
              "       [0.02407697],\n",
              "       [0.02289838],\n",
              "       [0.01953097],\n",
              "       [0.01775105],\n",
              "       [0.01823211],\n",
              "       [0.01993987],\n",
              "       [0.02090198],\n",
              "       [0.02068551],\n",
              "       [0.02239327],\n",
              "       [0.02042093],\n",
              "       [0.01683704],\n",
              "       [0.01712568],\n",
              "       [0.01635598],\n",
              "       [0.01734215],\n",
              "       [0.01200241],\n",
              "       [0.01144919],\n",
              "       [0.01339747],\n",
              "       [0.01253157],\n",
              "       [0.01385448],\n",
              "       [0.00736019],\n",
              "       [0.004089  ],\n",
              "       [0.0078172 ],\n",
              "       [0.00976548],\n",
              "       [0.01265183],\n",
              "       [0.01334937],\n",
              "       [0.01118461],\n",
              "       [0.01248346],\n",
              "       [0.01346963],\n",
              "       [0.01524955],\n",
              "       [0.01597114],\n",
              "       [0.01702946],\n",
              "       [0.01570655],\n",
              "       [0.02032471],\n",
              "       [0.02030066],\n",
              "       [0.02282622],\n",
              "       [0.02292243],\n",
              "       [0.02313891],\n",
              "       [0.0218641 ],\n",
              "       [0.02001203],\n",
              "       [0.01683704],\n",
              "       [0.0152255 ],\n",
              "       [0.03033073],\n",
              "       [0.03367408],\n",
              "       [0.0333614 ],\n",
              "       [0.03778713],\n",
              "       [0.03401082],\n",
              "       [0.03716176],\n",
              "       [0.03735418],\n",
              "       [0.0412267 ],\n",
              "       [0.04336741],\n",
              "       [0.04442574],\n",
              "       [0.04247745],\n",
              "       [0.04230908],\n",
              "       [0.0429104 ],\n",
              "       [0.04603728],\n",
              "       [0.04579675],\n",
              "       [0.04541191],\n",
              "       [0.04507517],\n",
              "       [0.04574865],\n",
              "       [0.04370415],\n",
              "       [0.04452195],\n",
              "       [0.04254961],\n",
              "       [0.04144317],\n",
              "       [0.03992784],\n",
              "       [0.03963921],\n",
              "       [0.03766687],\n",
              "       [0.0379074 ],\n",
              "       [0.03942273],\n",
              "       [0.04182802],\n",
              "       [0.04175586],\n",
              "       [0.04334336],\n",
              "       [0.03651233],\n",
              "       [0.03076368],\n",
              "       [0.0363199 ],\n",
              "       [0.04235719],\n",
              "       [0.0515454 ],\n",
              "       [0.06068551],\n",
              "       [0.05912207],\n",
              "       [0.05589898],\n",
              "       [0.05587492],\n",
              "       [0.05582682],\n",
              "       [0.05840048],\n",
              "       [0.05380637],\n",
              "       [0.05421527],\n",
              "       [0.05472038],\n",
              "       [0.05678894],\n",
              "       [0.05253157],\n",
              "       [0.05462417],\n",
              "       [0.05334937],\n",
              "       [0.05450391],\n",
              "       [0.05462417],\n",
              "       [0.05664462],\n",
              "       [0.05705352],\n",
              "       [0.06184005],\n",
              "       [0.06244137],\n",
              "       [0.06494287],\n",
              "       [0.06407697],\n",
              "       [0.06564041],\n",
              "       [0.06544799],\n",
              "       [0.06525556],\n",
              "       [0.06441371],\n",
              "       [0.06426939],\n",
              "       [0.06316296],\n",
              "       [0.06568851],\n",
              "       [0.06713169],\n",
              "       [0.06073361],\n",
              "       [0.05806374],\n",
              "       [0.05623572],\n",
              "       [0.05580277],\n",
              "       [0.05087192],\n",
              "       [0.05111245],\n",
              "       [0.04687913],\n",
              "       [0.0444979 ],\n",
              "       [0.0482742 ],\n",
              "       [0.04983764],\n",
              "       [0.04940469],\n",
              "       [0.04197234],\n",
              "       [0.04351173],\n",
              "       [0.03696933],\n",
              "       [0.04033674],\n",
              "       [0.04726398],\n",
              "       [0.04716777],\n",
              "       [0.04743235],\n",
              "       [0.05144919],\n",
              "       [0.05161756],\n",
              "       [0.05024654],\n",
              "       [0.05159351],\n",
              "       [0.05106434],\n",
              "       [0.05079976],\n",
              "       [0.04853879],\n",
              "       [0.04606133],\n",
              "       [0.0470475 ],\n",
              "       [0.04514732],\n",
              "       [0.04716777],\n",
              "       [0.04976548],\n",
              "       [0.05238725],\n",
              "       [0.05678894],\n",
              "       [0.0552255 ],\n",
              "       [0.0597715 ],\n",
              "       [0.0597715 ],\n",
              "       [0.06128683],\n",
              "       [0.06164762],\n",
              "       [0.06325917],\n",
              "       [0.06400481],\n",
              "       [0.06426939],\n",
              "       [0.06241732],\n",
              "       [0.06297054],\n",
              "       [0.06475045],\n",
              "       [0.06354781],\n",
              "       [0.06347565],\n",
              "       [0.06128683],\n",
              "       [0.06208058],\n",
              "       [0.06176789],\n",
              "       [0.06318701],\n",
              "       [0.06631389],\n",
              "       [0.06891161],\n",
              "       [0.06920024],\n",
              "       [0.07073963],\n",
              "       [0.06953698],\n",
              "       [0.06903187],\n",
              "       [0.07134095],\n",
              "       [0.0713169 ],\n",
              "       [0.07081179],\n",
              "       [0.07134095],\n",
              "       [0.07153337],\n",
              "       [0.07126879],\n",
              "       [0.0758629 ],\n",
              "       [0.07600722],\n",
              "       [0.07603127],\n",
              "       [0.07526158],\n",
              "       [0.07458809],\n",
              "       [0.09238725],\n",
              "       [0.09185809],\n",
              "       [0.093181  ],\n",
              "       [0.0960914 ],\n",
              "       [0.09907396],\n",
              "       [0.10030066],\n",
              "       [0.10121467],\n",
              "       [0.10049308],\n",
              "       [0.10330728],\n",
              "       [0.10746843],\n",
              "       [0.10864702],\n",
              "       [0.10825015],\n",
              "       [0.10915213],\n",
              "       [0.11150932],\n",
              "       [0.11249549],\n",
              "       [0.11110042],\n",
              "       [0.11141311],\n",
              "       [0.11206254],\n",
              "       [0.11220686],\n",
              "       [0.11894167],\n",
              "       [0.11694528],\n",
              "       [0.11891762],\n",
              "       [0.11785929],\n",
              "       [0.11829224],\n",
              "       [0.11704149],\n",
              "       [0.1162718 ],\n",
              "       [0.11737823],\n",
              "       [0.11752255],\n",
              "       [0.11701744],\n",
              "       [0.12055322],\n",
              "       [0.12110643],\n",
              "       [0.11942273],\n",
              "       [0.12295851],\n",
              "       [0.11906194],\n",
              "       [0.1228623 ],\n",
              "       [0.12165965],\n",
              "       [0.12098617],\n",
              "       [0.12156344],\n",
              "       [0.12858689],\n",
              "       [0.12935658],\n",
              "       [0.12889958],\n",
              "       [0.12825015],\n",
              "       [0.12834636],\n",
              "       [0.13092002],\n",
              "       [0.12911606],\n",
              "       [0.12825015],\n",
              "       [0.12748046],\n",
              "       [0.12707156],\n",
              "       [0.12336741],\n",
              "       [0.12377631],\n",
              "       [0.12197234],\n",
              "       [0.12384847],\n",
              "       [0.12233313],\n",
              "       [0.12108238],\n",
              "       [0.12531569],\n",
              "       [0.12490679],\n",
              "       [0.12820204],\n",
              "       [0.13034275],\n",
              "       [0.12829826],\n",
              "       [0.12856284],\n",
              "       [0.1282261 ],\n",
              "       [0.1352736 ],\n",
              "       [0.13751052],\n",
              "       [0.13642814],\n",
              "       [0.13515334],\n",
              "       [0.1409982 ],\n",
              "       [0.15073963],\n",
              "       [0.15309681],\n",
              "       [0.15134095],\n",
              "       [0.1530006 ],\n",
              "       [0.15817198],\n",
              "       [0.15720986],\n",
              "       [0.15665664],\n",
              "       [0.14410102],\n",
              "       [0.14960914],\n",
              "       [0.15085989],\n",
              "       [0.15309681],\n",
              "       [0.15263981],\n",
              "       [0.15153337],\n",
              "       [0.15280818],\n",
              "       [0.1521828 ],\n",
              "       [0.15232712],\n",
              "       [0.1501383 ],\n",
              "       [0.15114853],\n",
              "       [0.15660854],\n",
              "       [0.1529525 ],\n",
              "       [0.15420325],\n",
              "       [0.15641612],\n",
              "       [0.1555021 ],\n",
              "       [0.1410463 ],\n",
              "       [0.13248346],\n",
              "       [0.13529765],\n",
              "       [0.13185809],\n",
              "       [0.12976548],\n",
              "       [0.12490679],\n",
              "       [0.13469633],\n",
              "       [0.13149729],\n",
              "       [0.13356584],\n",
              "       [0.13298857],\n",
              "       [0.13455201],\n",
              "       [0.13344558],\n",
              "       [0.12841852],\n",
              "       [0.13346963],\n",
              "       [0.12829826],\n",
              "       [0.12911606],\n",
              "       [0.1278653 ],\n",
              "       [0.12928443],\n",
              "       [0.12601323],\n",
              "       [0.1295009 ],\n",
              "       [0.13161756],\n",
              "       [0.13274805],\n",
              "       [0.13325316],\n",
              "       [0.1381359 ],\n",
              "       [0.14119062],\n",
              "       [0.14244137],\n",
              "       [0.14369212],\n",
              "       [0.1459531 ],\n",
              "       [0.1443175 ],\n",
              "       [0.14414913],\n",
              "       [0.14852676],\n",
              "       [0.1500902 ],\n",
              "       [0.15182201],\n",
              "       [0.14484666],\n",
              "       [0.14229705],\n",
              "       [0.14044498],\n",
              "       [0.14361996],\n",
              "       [0.16067348],\n",
              "       [0.15689717],\n",
              "       [0.15886951],\n",
              "       [0.16469032],\n",
              "       [0.16774504],\n",
              "       [0.17010222],\n",
              "       [0.15629585],\n",
              "       [0.16149128],\n",
              "       [0.16719182],\n",
              "       [0.17140108],\n",
              "       [0.16983764],\n",
              "       [0.16240529],\n",
              "       [0.16153939],\n",
              "       [0.16084185],\n",
              "       [0.16702345],\n",
              "       [0.16750451],\n",
              "       [0.16579675],\n",
              "       [0.16721587],\n",
              "       [0.17108839],\n",
              "       [0.17455201],\n",
              "       [0.17561034],\n",
              "       [0.17717378],\n",
              "       [0.17729405],\n",
              "       [0.17255562],\n",
              "       [0.17214672],\n",
              "       [0.17058328],\n",
              "       [0.16425737],\n",
              "       [0.17116055],\n",
              "       [0.16962117],\n",
              "       [0.16671076],\n",
              "       [0.16341551],\n",
              "       [0.16726398],\n",
              "       [0.16435358],\n",
              "       [0.1644979 ],\n",
              "       [0.15809982],\n",
              "       [0.15165364],\n",
              "       [0.1480457 ],\n",
              "       [0.14482261],\n",
              "       [0.15105232],\n",
              "       [0.15367408],\n",
              "       [0.15138906],\n",
              "       [0.1534095 ],\n",
              "       [0.15266386],\n",
              "       [0.15427541],\n",
              "       [0.15187011],\n",
              "       [0.15646422],\n",
              "       [0.15624775],\n",
              "       [0.1575466 ],\n",
              "       [0.15769092],\n",
              "       [0.15925436],\n",
              "       [0.15793145],\n",
              "       [0.16031269],\n",
              "       [0.16726398],\n",
              "       [0.1686831 ],\n",
              "       [0.16697535],\n",
              "       [0.15788334],\n",
              "       [0.15853277],\n",
              "       [0.15834035],\n",
              "       [0.16057727],\n",
              "       [0.15891762],\n",
              "       [0.16132291],\n",
              "       [0.17488876],\n",
              "       [0.18371618],\n",
              "       [0.18929645],\n",
              "       [0.18412508],\n",
              "       [0.18705953],\n",
              "       [0.19761876],\n",
              "       [0.20182802],\n",
              "       [0.20317498],\n",
              "       [0.20661455],\n",
              "       [0.20574865],\n",
              "       [0.20283824],\n",
              "       [0.20115454],\n",
              "       [0.19482862],\n",
              "       [0.18939266],\n",
              "       [0.19425135],\n",
              "       [0.19196633],\n",
              "       [0.19155743],\n",
              "       [0.19915815],\n",
              "       [0.20353578],\n",
              "       [0.20355983],\n",
              "       [0.20144317],\n",
              "       [0.19898978],\n",
              "       [0.19035478],\n",
              "       [0.19605532],\n",
              "       [0.19413109],\n",
              "       [0.19112447],\n",
              "       [0.19073963],\n",
              "       [0.18922429],\n",
              "       [0.18996993],\n",
              "       [0.1900902 ],\n",
              "       [0.19802766],\n",
              "       [0.19569453],\n",
              "       [0.19706554],\n",
              "       [0.19694528],\n",
              "       [0.20115454],\n",
              "       [0.2070475 ],\n",
              "       [0.20252556],\n",
              "       [0.20206855],\n",
              "       [0.20365604],\n",
              "       [0.20365604],\n",
              "       [0.19297655],\n",
              "       [0.19304871],\n",
              "       [0.19420325],\n",
              "       [0.18975346],\n",
              "       [0.19704149],\n",
              "       [0.19696933],\n",
              "       [0.19889357],\n",
              "       [0.20363199],\n",
              "       [0.20206855],\n",
              "       [0.20202044],\n",
              "       [0.20192423],\n",
              "       [0.20430547],\n",
              "       [0.20865905],\n",
              "       [0.20649429],\n",
              "       [0.21349369],\n",
              "       [0.21387853],\n",
              "       [0.2119543 ],\n",
              "       [0.20844257],\n",
              "       [0.20853879],\n",
              "       [0.20175586],\n",
              "       [0.19427541],\n",
              "       [0.19523752],\n",
              "       [0.18669874],\n",
              "       [0.1843175 ],\n",
              "       [0.18542393],\n",
              "       [0.18626578],\n",
              "       [0.16875526],\n",
              "       [0.15911004],\n",
              "       [0.17484065],\n",
              "       [0.16644618],\n",
              "       [0.15588695],\n",
              "       [0.15891762],\n",
              "       [0.17407096],\n",
              "       [0.17799158],\n",
              "       [0.18527962],\n",
              "       [0.19879735],\n",
              "       [0.19745039],\n",
              "       [0.19605532],\n",
              "       [0.19417919],\n",
              "       [0.19761876],\n",
              "       [0.20483464],\n",
              "       [0.213181  ],\n",
              "       [0.21178593],\n",
              "       [0.2111365 ],\n",
              "       [0.20363199],\n",
              "       [0.20654239],\n",
              "       [0.20800962],\n",
              "       [0.20764883],\n",
              "       [0.20370415],\n",
              "       [0.20829826],\n",
              "       [0.21561034],\n",
              "       [0.21979555],\n",
              "       [0.21558629],\n",
              "       [0.21190619],\n",
              "       [0.2124113 ],\n",
              "       [0.21089597],\n",
              "       [0.20435358],\n",
              "       [0.20420926],\n",
              "       [0.19466025],\n",
              "       [0.18883945],\n",
              "       [0.17943476],\n",
              "       [0.19826819],\n",
              "       [0.18761275],\n",
              "       [0.18313891],\n",
              "       [0.18626578],\n",
              "       [0.18361996],\n",
              "       [0.18773301],\n",
              "       [0.19547805],\n",
              "       [0.19834035],\n",
              "       [0.18770896],\n",
              "       [0.1917258 ],\n",
              "       [0.19942273],\n",
              "       [0.19747444],\n",
              "       [0.20156344],\n",
              "       [0.20298256],\n",
              "       [0.20560433],\n",
              "       [0.21142514],\n",
              "       [0.21046302],\n",
              "       [0.19834035],\n",
              "       [0.18131088],\n",
              "       [0.18015634],\n",
              "       [0.17462417],\n",
              "       [0.17633193],\n",
              "       [0.17770295],\n",
              "       [0.17313289],\n",
              "       [0.18020445],\n",
              "       [0.18944077],\n",
              "       [0.2074083 ],\n",
              "       [0.20817799],\n",
              "       [0.22487072],\n",
              "       [0.22806975],\n",
              "       [0.23021046],\n",
              "       [0.2333614 ],\n",
              "       [0.23980758],\n",
              "       [0.2363199 ],\n",
              "       [0.23526158],\n",
              "       [0.23114853],\n",
              "       [0.23533373],\n",
              "       [0.23247144],\n",
              "       [0.23083584],\n",
              "       [0.23401082],\n",
              "       [0.23288034],\n",
              "       [0.23576669],\n",
              "       [0.23526158],\n",
              "       [0.23629585],\n",
              "       [0.23466025],\n",
              "       [0.23369814],\n",
              "       [0.2321828 ],\n",
              "       [0.24028863],\n",
              "       [0.24411305],\n",
              "       [0.24767288],\n",
              "       [0.24928443],\n",
              "       [0.24803367],\n",
              "       [0.24380036],\n",
              "       [0.24266987],\n",
              "       [0.24519543],\n",
              "       [0.24139507],\n",
              "       [0.2416356 ],\n",
              "       [0.23692123],\n",
              "       [0.2366807 ],\n",
              "       [0.22934456],\n",
              "       [0.23129284],\n",
              "       [0.22879134],\n",
              "       [0.22749248],\n",
              "       [0.22087793],\n",
              "       [0.22631389],\n",
              "       [0.22566446],\n",
              "       [0.22888755],\n",
              "       [0.22794949],\n",
              "       [0.23292844],\n",
              "       [0.22508719],\n",
              "       [0.22864702],\n",
              "       [0.23482862],\n",
              "       [0.24110643],\n",
              "       [0.24055322],\n",
              "       [0.23461215],\n",
              "       [0.24218882],\n",
              "       [0.2429104 ],\n",
              "       [0.24190018],\n",
              "       [0.24319904],\n",
              "       [0.24067348],\n",
              "       [0.24423331],\n",
              "       [0.24317498],\n",
              "       [0.24358388],\n",
              "       [0.24692724],\n",
              "       [0.25130487],\n",
              "       [0.24983764],\n",
              "       [0.24206855],\n",
              "       [0.23949489],\n",
              "       [0.2404089 ],\n",
              "       [0.26737222],\n",
              "       [0.28153939],\n",
              "       [0.28298256],\n",
              "       [0.28558028],\n",
              "       [0.2808659 ],\n",
              "       [0.28120265],\n",
              "       [0.28512327],\n",
              "       [0.28187613],\n",
              "       [0.28509922],\n",
              "       [0.28721587],\n",
              "       [0.28839447],\n",
              "       [0.29580277],\n",
              "       [0.30604931],\n",
              "       [0.30095009],\n",
              "       [0.29993987],\n",
              "       [0.29996392],\n",
              "       [0.30102225],\n",
              "       [0.30263379],\n",
              "       [0.30691521],\n",
              "       [0.31114853],\n",
              "       [0.31903788],\n",
              "       [0.32396873],\n",
              "       [0.33022249],\n",
              "       [0.33197835],\n",
              "       [0.32839447],\n",
              "       [0.31932652],\n",
              "       [0.31499699],\n",
              "       [0.30785328],\n",
              "       [0.32113049],\n",
              "       [0.31444378],\n",
              "       [0.32728803],\n",
              "       [0.32110643],\n",
              "       [0.3067709 ],\n",
              "       [0.3076368 ],\n",
              "       [0.30794949],\n",
              "       [0.31194227],\n",
              "       [0.30624173],\n",
              "       [0.31377029],\n",
              "       [0.3171377 ],\n",
              "       [0.31288034],\n",
              "       [0.32377631],\n",
              "       [0.32567649],\n",
              "       [0.32933253],\n",
              "       [0.33419122],\n",
              "       [0.34090198],\n",
              "       [0.33108839],\n",
              "       [0.32218882],\n",
              "       [0.32093806],\n",
              "       [0.32839447],\n",
              "       [0.30311485],\n",
              "       [0.29852075],\n",
              "       [0.31694528],\n",
              "       [0.30552014],\n",
              "       [0.31704149],\n",
              "       [0.31473241],\n",
              "       [0.30229705],\n",
              "       [0.31021046],\n",
              "       [0.31343355],\n",
              "       [0.31843656],\n",
              "       [0.30006013],\n",
              "       [0.31138906],\n",
              "       [0.30297054],\n",
              "       [0.29320505],\n",
              "       [0.29575466],\n",
              "       [0.30912808],\n",
              "       [0.31720986],\n",
              "       [0.28175586],\n",
              "       [0.2675887 ],\n",
              "       [0.27283223],\n",
              "       [0.28769693],\n",
              "       [0.28418521],\n",
              "       [0.27451594],\n",
              "       [0.24974143],\n",
              "       [0.24507517],\n",
              "       [0.23201443],\n",
              "       [0.24310283],\n",
              "       [0.24820204],\n",
              "       [0.22975346],\n",
              "       [0.20839447],\n",
              "       [0.20791341],\n",
              "       [0.19711365],\n",
              "       [0.20271798],\n",
              "       [0.20180397],\n",
              "       [0.21791942],\n",
              "       [0.21457607],\n",
              "       [0.21224293],\n",
              "       [0.22725195],\n",
              "       [0.20769693],\n",
              "       [0.20295851],\n",
              "       [0.18797354],\n",
              "       [0.19064342],\n",
              "       [0.18831028],\n",
              "       [0.18944077],\n",
              "       [0.19389056],\n",
              "       [0.18073361],\n",
              "       [0.17702946],\n",
              "       [0.18215274],\n",
              "       [0.16969333],\n",
              "       [0.15992784],\n",
              "       [0.14525556],\n",
              "       [0.13587492],\n",
              "       [0.16074564],\n",
              "       [0.15829224],\n",
              "       [0.15848467],\n",
              "       [0.16211666],\n",
              "       [0.16254961],\n",
              "       [0.12471437],\n",
              "       [0.13931449],\n",
              "       [0.13852075],\n",
              "       [0.14530367],\n",
              "       [0.15146121],\n",
              "       [0.15263981],\n",
              "       [0.14900782],\n",
              "       [0.1434997 ],\n",
              "       [0.15088394],\n",
              "       [0.15538184],\n",
              "       [0.15759471],\n",
              "       [0.15990379],\n",
              "       [0.15143716],\n",
              "       [0.15292844],\n",
              "       [0.14999399],\n",
              "       [0.16216476],\n",
              "       [0.15865304],\n",
              "       [0.15475646]])"
            ]
          },
          "metadata": {
            "tags": []
          },
          "execution_count": 20
        }
      ]
    },
    {
      "cell_type": "code",
      "metadata": {
        "id": "9Pfhy7TfNlv4"
      },
      "source": [
        "import numpy\n",
        "#data preprocessing\n",
        "#convert an array of values into dataset matrix refer attached txt file\n",
        "def create_dataset(dataset, time_step = 1):\n",
        "  dataX, dataY = [],[]\n",
        "  for i in range(len(dataset) - time_step - 1):\n",
        "    a = dataset[i:(i+time_step), 0]\n",
        "    dataX.append(a)\n",
        "    dataY.append(dataset[i + time_step, 0])\n",
        "  return numpy.array(dataX), numpy.array(dataY)"
      ],
      "execution_count": 21,
      "outputs": []
    },
    {
      "cell_type": "code",
      "metadata": {
        "id": "hW5TMmMbRVjU"
      },
      "source": [
        "time_step = 100\n",
        "x_train, y_train = create_dataset(train_data, time_step)\n",
        "x_test, y_test = create_dataset(test_data, time_step)"
      ],
      "execution_count": 22,
      "outputs": []
    },
    {
      "cell_type": "code",
      "metadata": {
        "id": "rzOpnJ9GRrwO",
        "outputId": "b08621bb-09ef-446a-b502-dc831bfda431",
        "colab": {
          "base_uri": "https://localhost:8080/",
          "height": 67
        }
      },
      "source": [
        "print(x_train.shape), print(y_train.shape)"
      ],
      "execution_count": 23,
      "outputs": [
        {
          "output_type": "stream",
          "text": [
            "(716, 100)\n",
            "(716,)\n"
          ],
          "name": "stdout"
        },
        {
          "output_type": "execute_result",
          "data": {
            "text/plain": [
              "(None, None)"
            ]
          },
          "metadata": {
            "tags": []
          },
          "execution_count": 23
        }
      ]
    },
    {
      "cell_type": "code",
      "metadata": {
        "id": "0ae2jWeuRyak",
        "outputId": "276d4109-7520-4b3f-877f-a2511f5f5cd5",
        "colab": {
          "base_uri": "https://localhost:8080/",
          "height": 67
        }
      },
      "source": [
        "print(x_test.shape), print(y_test.shape)"
      ],
      "execution_count": 24,
      "outputs": [
        {
          "output_type": "stream",
          "text": [
            "(339, 100)\n",
            "(339,)\n"
          ],
          "name": "stdout"
        },
        {
          "output_type": "execute_result",
          "data": {
            "text/plain": [
              "(None, None)"
            ]
          },
          "metadata": {
            "tags": []
          },
          "execution_count": 24
        }
      ]
    },
    {
      "cell_type": "code",
      "metadata": {
        "id": "ODoDLzEbSDCr"
      },
      "source": [
        "# reshape input to be [samples, time steps, features] which is required for lstm\n",
        "x_train = x_train.reshape(x_train.shape[0], x_train.shape[1], 1)\n",
        "x_test = x_test.reshape(x_test.shape[0], x_test.shape[1], 1)"
      ],
      "execution_count": 26,
      "outputs": []
    },
    {
      "cell_type": "code",
      "metadata": {
        "id": "P4dSXCZNNIgZ",
        "outputId": "4bd5680f-0e55-42fc-99cf-756f4d6c6dec",
        "colab": {
          "base_uri": "https://localhost:8080/",
          "height": 67
        }
      },
      "source": [
        "print(x_train.shape), print(y_train.shape)"
      ],
      "execution_count": 27,
      "outputs": [
        {
          "output_type": "stream",
          "text": [
            "(716, 100, 1)\n",
            "(716,)\n"
          ],
          "name": "stdout"
        },
        {
          "output_type": "execute_result",
          "data": {
            "text/plain": [
              "(None, None)"
            ]
          },
          "metadata": {
            "tags": []
          },
          "execution_count": 27
        }
      ]
    },
    {
      "cell_type": "code",
      "metadata": {
        "id": "WNPObIpPXSC4"
      },
      "source": [
        "# create LSTM model\n",
        "from tensorflow.keras.models import Sequential\n",
        "from tensorflow.keras.layers import Dense\n",
        "from tensorflow.keras.layers import LSTM"
      ],
      "execution_count": 30,
      "outputs": []
    },
    {
      "cell_type": "code",
      "metadata": {
        "id": "_2XlOSr1XoH-"
      },
      "source": [
        "model = Sequential()\n",
        "model.add(LSTM(50,return_sequences=True,input_shape=(100,1)))\n",
        "model.add(LSTM(50,return_sequences=True))\n",
        "model.add(LSTM(50))\n",
        "model.add(Dense(1))\n",
        "model.compile(loss='mean_squared_error',optimizer='adam')"
      ],
      "execution_count": 33,
      "outputs": []
    },
    {
      "cell_type": "code",
      "metadata": {
        "id": "d_TAz3xRYTX3",
        "outputId": "4b775150-c1a9-4a69-e044-dcb804b0990f",
        "colab": {
          "base_uri": "https://localhost:8080/",
          "height": 286
        }
      },
      "source": [
        "model.summary()"
      ],
      "execution_count": 34,
      "outputs": [
        {
          "output_type": "stream",
          "text": [
            "Model: \"sequential\"\n",
            "_________________________________________________________________\n",
            "Layer (type)                 Output Shape              Param #   \n",
            "=================================================================\n",
            "lstm (LSTM)                  (None, 100, 50)           10400     \n",
            "_________________________________________________________________\n",
            "lstm_1 (LSTM)                (None, 100, 50)           20200     \n",
            "_________________________________________________________________\n",
            "lstm_2 (LSTM)                (None, 50)                20200     \n",
            "_________________________________________________________________\n",
            "dense (Dense)                (None, 1)                 51        \n",
            "=================================================================\n",
            "Total params: 50,851\n",
            "Trainable params: 50,851\n",
            "Non-trainable params: 0\n",
            "_________________________________________________________________\n"
          ],
          "name": "stdout"
        }
      ]
    },
    {
      "cell_type": "code",
      "metadata": {
        "id": "eavasoKcYtWP",
        "outputId": "d6fa9d00-65fb-44de-dfd0-3629d522185f",
        "colab": {
          "base_uri": "https://localhost:8080/",
          "height": 1000
        }
      },
      "source": [
        "model.fit(x_train,y_train,validation_data=(x_test,y_test),epochs=100,batch_size=64,verbose=1)"
      ],
      "execution_count": 35,
      "outputs": [
        {
          "output_type": "stream",
          "text": [
            "Epoch 1/100\n",
            "12/12 [==============================] - 3s 248ms/step - loss: 0.0049 - val_loss: 0.0426\n",
            "Epoch 2/100\n",
            "12/12 [==============================] - 2s 170ms/step - loss: 0.0011 - val_loss: 0.0249\n",
            "Epoch 3/100\n",
            "12/12 [==============================] - 2s 169ms/step - loss: 6.0431e-04 - val_loss: 0.0209\n",
            "Epoch 4/100\n",
            "12/12 [==============================] - 2s 171ms/step - loss: 3.9006e-04 - val_loss: 0.0199\n",
            "Epoch 5/100\n",
            "12/12 [==============================] - 2s 173ms/step - loss: 3.4263e-04 - val_loss: 0.0193\n",
            "Epoch 6/100\n",
            "12/12 [==============================] - 2s 173ms/step - loss: 3.3166e-04 - val_loss: 0.0187\n",
            "Epoch 7/100\n",
            "12/12 [==============================] - 2s 177ms/step - loss: 3.4013e-04 - val_loss: 0.0181\n",
            "Epoch 8/100\n",
            "12/12 [==============================] - 2s 171ms/step - loss: 3.1661e-04 - val_loss: 0.0177\n",
            "Epoch 9/100\n",
            "12/12 [==============================] - 2s 170ms/step - loss: 2.9602e-04 - val_loss: 0.0169\n",
            "Epoch 10/100\n",
            "12/12 [==============================] - 2s 173ms/step - loss: 2.8003e-04 - val_loss: 0.0167\n",
            "Epoch 11/100\n",
            "12/12 [==============================] - 2s 170ms/step - loss: 2.7485e-04 - val_loss: 0.0157\n",
            "Epoch 12/100\n",
            "12/12 [==============================] - 2s 174ms/step - loss: 2.6558e-04 - val_loss: 0.0159\n",
            "Epoch 13/100\n",
            "12/12 [==============================] - 2s 170ms/step - loss: 2.2809e-04 - val_loss: 0.0152\n",
            "Epoch 14/100\n",
            "12/12 [==============================] - 2s 171ms/step - loss: 2.2527e-04 - val_loss: 0.0160\n",
            "Epoch 15/100\n",
            "12/12 [==============================] - 2s 173ms/step - loss: 2.1712e-04 - val_loss: 0.0163\n",
            "Epoch 16/100\n",
            "12/12 [==============================] - 2s 170ms/step - loss: 2.2960e-04 - val_loss: 0.0153\n",
            "Epoch 17/100\n",
            "12/12 [==============================] - 2s 172ms/step - loss: 2.0897e-04 - val_loss: 0.0156\n",
            "Epoch 18/100\n",
            "12/12 [==============================] - 2s 178ms/step - loss: 1.8972e-04 - val_loss: 0.0153\n",
            "Epoch 19/100\n",
            "12/12 [==============================] - 2s 169ms/step - loss: 1.8830e-04 - val_loss: 0.0155\n",
            "Epoch 20/100\n",
            "12/12 [==============================] - 2s 170ms/step - loss: 1.9167e-04 - val_loss: 0.0154\n",
            "Epoch 21/100\n",
            "12/12 [==============================] - 2s 172ms/step - loss: 1.8133e-04 - val_loss: 0.0159\n",
            "Epoch 22/100\n",
            "12/12 [==============================] - 2s 174ms/step - loss: 1.8174e-04 - val_loss: 0.0154\n",
            "Epoch 23/100\n",
            "12/12 [==============================] - 2s 178ms/step - loss: 1.9755e-04 - val_loss: 0.0174\n",
            "Epoch 24/100\n",
            "12/12 [==============================] - 2s 188ms/step - loss: 2.0454e-04 - val_loss: 0.0150\n",
            "Epoch 25/100\n",
            "12/12 [==============================] - 2s 171ms/step - loss: 1.8461e-04 - val_loss: 0.0158\n",
            "Epoch 26/100\n",
            "12/12 [==============================] - 2s 173ms/step - loss: 1.7989e-04 - val_loss: 0.0153\n",
            "Epoch 27/100\n",
            "12/12 [==============================] - 2s 184ms/step - loss: 1.8388e-04 - val_loss: 0.0155\n",
            "Epoch 28/100\n",
            "12/12 [==============================] - 2s 174ms/step - loss: 1.9822e-04 - val_loss: 0.0147\n",
            "Epoch 29/100\n",
            "12/12 [==============================] - 2s 178ms/step - loss: 2.1152e-04 - val_loss: 0.0149\n",
            "Epoch 30/100\n",
            "12/12 [==============================] - 2s 172ms/step - loss: 1.6028e-04 - val_loss: 0.0156\n",
            "Epoch 31/100\n",
            "12/12 [==============================] - 2s 173ms/step - loss: 1.6037e-04 - val_loss: 0.0157\n",
            "Epoch 32/100\n",
            "12/12 [==============================] - 2s 178ms/step - loss: 1.6511e-04 - val_loss: 0.0161\n",
            "Epoch 33/100\n",
            "12/12 [==============================] - 2s 173ms/step - loss: 1.6221e-04 - val_loss: 0.0159\n",
            "Epoch 34/100\n",
            "12/12 [==============================] - 2s 173ms/step - loss: 1.5664e-04 - val_loss: 0.0158\n",
            "Epoch 35/100\n",
            "12/12 [==============================] - 2s 179ms/step - loss: 1.5897e-04 - val_loss: 0.0154\n",
            "Epoch 36/100\n",
            "12/12 [==============================] - 2s 177ms/step - loss: 1.5713e-04 - val_loss: 0.0159\n",
            "Epoch 37/100\n",
            "12/12 [==============================] - 2s 171ms/step - loss: 1.6142e-04 - val_loss: 0.0154\n",
            "Epoch 38/100\n",
            "12/12 [==============================] - 2s 175ms/step - loss: 1.5266e-04 - val_loss: 0.0152\n",
            "Epoch 39/100\n",
            "12/12 [==============================] - 2s 184ms/step - loss: 1.7924e-04 - val_loss: 0.0172\n",
            "Epoch 40/100\n",
            "12/12 [==============================] - 2s 182ms/step - loss: 1.7825e-04 - val_loss: 0.0152\n",
            "Epoch 41/100\n",
            "12/12 [==============================] - 2s 190ms/step - loss: 1.6654e-04 - val_loss: 0.0150\n",
            "Epoch 42/100\n",
            "12/12 [==============================] - 2s 176ms/step - loss: 1.4529e-04 - val_loss: 0.0157\n",
            "Epoch 43/100\n",
            "12/12 [==============================] - 2s 176ms/step - loss: 1.5413e-04 - val_loss: 0.0152\n",
            "Epoch 44/100\n",
            "12/12 [==============================] - 2s 172ms/step - loss: 1.4372e-04 - val_loss: 0.0150\n",
            "Epoch 45/100\n",
            "12/12 [==============================] - 2s 173ms/step - loss: 1.4380e-04 - val_loss: 0.0150\n",
            "Epoch 46/100\n",
            "12/12 [==============================] - 2s 175ms/step - loss: 1.4740e-04 - val_loss: 0.0146\n",
            "Epoch 47/100\n",
            "12/12 [==============================] - 2s 174ms/step - loss: 1.3796e-04 - val_loss: 0.0153\n",
            "Epoch 48/100\n",
            "12/12 [==============================] - 2s 174ms/step - loss: 1.3844e-04 - val_loss: 0.0140\n",
            "Epoch 49/100\n",
            "12/12 [==============================] - 2s 173ms/step - loss: 1.3290e-04 - val_loss: 0.0144\n",
            "Epoch 50/100\n",
            "12/12 [==============================] - 2s 172ms/step - loss: 1.3646e-04 - val_loss: 0.0139\n",
            "Epoch 51/100\n",
            "12/12 [==============================] - 2s 179ms/step - loss: 1.3651e-04 - val_loss: 0.0140\n",
            "Epoch 52/100\n",
            "12/12 [==============================] - 2s 176ms/step - loss: 1.3389e-04 - val_loss: 0.0136\n",
            "Epoch 53/100\n",
            "12/12 [==============================] - 2s 176ms/step - loss: 1.2938e-04 - val_loss: 0.0139\n",
            "Epoch 54/100\n",
            "12/12 [==============================] - 2s 173ms/step - loss: 1.4713e-04 - val_loss: 0.0135\n",
            "Epoch 55/100\n",
            "12/12 [==============================] - 2s 172ms/step - loss: 1.5248e-04 - val_loss: 0.0130\n",
            "Epoch 56/100\n",
            "12/12 [==============================] - 2s 175ms/step - loss: 1.4079e-04 - val_loss: 0.0132\n",
            "Epoch 57/100\n",
            "12/12 [==============================] - 2s 172ms/step - loss: 1.4105e-04 - val_loss: 0.0123\n",
            "Epoch 58/100\n",
            "12/12 [==============================] - 2s 179ms/step - loss: 1.2461e-04 - val_loss: 0.0122\n",
            "Epoch 59/100\n",
            "12/12 [==============================] - 2s 176ms/step - loss: 1.2929e-04 - val_loss: 0.0129\n",
            "Epoch 60/100\n",
            "12/12 [==============================] - 2s 178ms/step - loss: 1.5797e-04 - val_loss: 0.0124\n",
            "Epoch 61/100\n",
            "12/12 [==============================] - 2s 176ms/step - loss: 1.8641e-04 - val_loss: 0.0120\n",
            "Epoch 62/100\n",
            "12/12 [==============================] - 2s 175ms/step - loss: 1.5748e-04 - val_loss: 0.0117\n",
            "Epoch 63/100\n",
            "12/12 [==============================] - 2s 174ms/step - loss: 1.3200e-04 - val_loss: 0.0117\n",
            "Epoch 64/100\n",
            "12/12 [==============================] - 2s 174ms/step - loss: 1.3744e-04 - val_loss: 0.0108\n",
            "Epoch 65/100\n",
            "12/12 [==============================] - 2s 173ms/step - loss: 1.2418e-04 - val_loss: 0.0115\n",
            "Epoch 66/100\n",
            "12/12 [==============================] - 2s 173ms/step - loss: 1.1975e-04 - val_loss: 0.0108\n",
            "Epoch 67/100\n",
            "12/12 [==============================] - 2s 176ms/step - loss: 1.1755e-04 - val_loss: 0.0106\n",
            "Epoch 68/100\n",
            "12/12 [==============================] - 2s 174ms/step - loss: 1.1931e-04 - val_loss: 0.0104\n",
            "Epoch 69/100\n",
            "12/12 [==============================] - 2s 172ms/step - loss: 1.1420e-04 - val_loss: 0.0117\n",
            "Epoch 70/100\n",
            "12/12 [==============================] - 2s 173ms/step - loss: 1.1421e-04 - val_loss: 0.0103\n",
            "Epoch 71/100\n",
            "12/12 [==============================] - 2s 178ms/step - loss: 1.4164e-04 - val_loss: 0.0105\n",
            "Epoch 72/100\n",
            "12/12 [==============================] - 2s 176ms/step - loss: 1.2678e-04 - val_loss: 0.0102\n",
            "Epoch 73/100\n",
            "12/12 [==============================] - 2s 174ms/step - loss: 1.1753e-04 - val_loss: 0.0101\n",
            "Epoch 74/100\n",
            "12/12 [==============================] - 2s 174ms/step - loss: 1.9055e-04 - val_loss: 0.0113\n",
            "Epoch 75/100\n",
            "12/12 [==============================] - 2s 175ms/step - loss: 1.4743e-04 - val_loss: 0.0098\n",
            "Epoch 76/100\n",
            "12/12 [==============================] - 2s 176ms/step - loss: 1.0824e-04 - val_loss: 0.0099\n",
            "Epoch 77/100\n",
            "12/12 [==============================] - 2s 178ms/step - loss: 1.0384e-04 - val_loss: 0.0099\n",
            "Epoch 78/100\n",
            "12/12 [==============================] - 2s 176ms/step - loss: 1.0360e-04 - val_loss: 0.0094\n",
            "Epoch 79/100\n",
            "12/12 [==============================] - 2s 172ms/step - loss: 1.0936e-04 - val_loss: 0.0094\n",
            "Epoch 80/100\n",
            "12/12 [==============================] - 2s 176ms/step - loss: 1.2302e-04 - val_loss: 0.0092\n",
            "Epoch 81/100\n",
            "12/12 [==============================] - 2s 177ms/step - loss: 1.1026e-04 - val_loss: 0.0086\n",
            "Epoch 82/100\n",
            "12/12 [==============================] - 2s 175ms/step - loss: 1.1298e-04 - val_loss: 0.0090\n",
            "Epoch 83/100\n",
            "12/12 [==============================] - 2s 174ms/step - loss: 1.0225e-04 - val_loss: 0.0089\n",
            "Epoch 84/100\n",
            "12/12 [==============================] - 2s 178ms/step - loss: 1.1213e-04 - val_loss: 0.0092\n",
            "Epoch 85/100\n",
            "12/12 [==============================] - 2s 177ms/step - loss: 1.3027e-04 - val_loss: 0.0086\n",
            "Epoch 86/100\n",
            "12/12 [==============================] - 2s 174ms/step - loss: 1.1864e-04 - val_loss: 0.0086\n",
            "Epoch 87/100\n",
            "12/12 [==============================] - 2s 184ms/step - loss: 1.1235e-04 - val_loss: 0.0085\n",
            "Epoch 88/100\n",
            "12/12 [==============================] - 2s 180ms/step - loss: 9.8439e-05 - val_loss: 0.0089\n",
            "Epoch 89/100\n",
            "12/12 [==============================] - 2s 180ms/step - loss: 9.8844e-05 - val_loss: 0.0083\n",
            "Epoch 90/100\n",
            "12/12 [==============================] - 2s 171ms/step - loss: 9.9380e-05 - val_loss: 0.0083\n",
            "Epoch 91/100\n",
            "12/12 [==============================] - 2s 185ms/step - loss: 9.7400e-05 - val_loss: 0.0078\n",
            "Epoch 92/100\n",
            "12/12 [==============================] - 2s 188ms/step - loss: 9.0553e-05 - val_loss: 0.0082\n",
            "Epoch 93/100\n",
            "12/12 [==============================] - 2s 182ms/step - loss: 9.7173e-05 - val_loss: 0.0076\n",
            "Epoch 94/100\n",
            "12/12 [==============================] - 2s 185ms/step - loss: 9.3189e-05 - val_loss: 0.0079\n",
            "Epoch 95/100\n",
            "12/12 [==============================] - 2s 176ms/step - loss: 9.5882e-05 - val_loss: 0.0077\n",
            "Epoch 96/100\n",
            "12/12 [==============================] - 2s 176ms/step - loss: 9.0026e-05 - val_loss: 0.0088\n",
            "Epoch 97/100\n",
            "12/12 [==============================] - 2s 175ms/step - loss: 1.0448e-04 - val_loss: 0.0075\n",
            "Epoch 98/100\n",
            "12/12 [==============================] - 2s 174ms/step - loss: 9.9022e-05 - val_loss: 0.0074\n",
            "Epoch 99/100\n",
            "12/12 [==============================] - 2s 176ms/step - loss: 9.4020e-05 - val_loss: 0.0077\n",
            "Epoch 100/100\n",
            "12/12 [==============================] - 2s 175ms/step - loss: 9.1650e-05 - val_loss: 0.0074\n"
          ],
          "name": "stdout"
        },
        {
          "output_type": "execute_result",
          "data": {
            "text/plain": [
              "<tensorflow.python.keras.callbacks.History at 0x7f3f66b75b38>"
            ]
          },
          "metadata": {
            "tags": []
          },
          "execution_count": 35
        }
      ]
    },
    {
      "cell_type": "code",
      "metadata": {
        "id": "7H1fg7RPZAcl"
      },
      "source": [
        "import tensorflow as tf"
      ],
      "execution_count": 36,
      "outputs": []
    },
    {
      "cell_type": "code",
      "metadata": {
        "id": "0eogHAMSa2hz",
        "outputId": "e8f4f661-530f-41b4-f5d9-1f53cc7f1bd7",
        "colab": {
          "base_uri": "https://localhost:8080/",
          "height": 35
        }
      },
      "source": [
        "tf.__version__"
      ],
      "execution_count": 37,
      "outputs": [
        {
          "output_type": "execute_result",
          "data": {
            "application/vnd.google.colaboratory.intrinsic+json": {
              "type": "string"
            },
            "text/plain": [
              "'2.3.0'"
            ]
          },
          "metadata": {
            "tags": []
          },
          "execution_count": 37
        }
      ]
    },
    {
      "cell_type": "code",
      "metadata": {
        "id": "UFuTg2KWa7AM"
      },
      "source": [
        "train_predict=model.predict(x_train)\n",
        "test_predict=model.predict(x_test)"
      ],
      "execution_count": 38,
      "outputs": []
    },
    {
      "cell_type": "code",
      "metadata": {
        "id": "xeiFhM4obHuO"
      },
      "source": [
        "train_predict=scaler.inverse_transform(train_predict)\n",
        "test_predict=scaler.inverse_transform(test_predict)"
      ],
      "execution_count": 39,
      "outputs": []
    },
    {
      "cell_type": "code",
      "metadata": {
        "id": "mInMEdzXbdc7",
        "outputId": "256c67bf-1a37-4340-80b4-32c327a6286e",
        "colab": {
          "base_uri": "https://localhost:8080/",
          "height": 34
        }
      },
      "source": [
        "import math\n",
        "from sklearn.metrics import mean_squared_error\n",
        "math.sqrt(mean_squared_error(y_train,train_predict))"
      ],
      "execution_count": 41,
      "outputs": [
        {
          "output_type": "execute_result",
          "data": {
            "text/plain": [
              "154.93813427226587"
            ]
          },
          "metadata": {
            "tags": []
          },
          "execution_count": 41
        }
      ]
    },
    {
      "cell_type": "code",
      "metadata": {
        "id": "ZNMbWHC8br8M",
        "outputId": "5a60e024-c464-4288-c8a4-98badeb59fa0",
        "colab": {
          "base_uri": "https://localhost:8080/",
          "height": 34
        }
      },
      "source": [
        "math.sqrt(mean_squared_error(y_test,test_predict))"
      ],
      "execution_count": 42,
      "outputs": [
        {
          "output_type": "execute_result",
          "data": {
            "text/plain": [
              "272.8839933382061"
            ]
          },
          "metadata": {
            "tags": []
          },
          "execution_count": 42
        }
      ]
    },
    {
      "cell_type": "code",
      "metadata": {
        "id": "-iAbGrYmb39q",
        "outputId": "39f79248-d9d6-4ba2-99c6-12fe787a285c",
        "colab": {
          "base_uri": "https://localhost:8080/",
          "height": 265
        }
      },
      "source": [
        "look_back=100\n",
        "trainPredictPlot = numpy.empty_like(df1)\n",
        "trainPredictPlot[:, :] = np.nan\n",
        "trainPredictPlot[look_back:len(train_predict)+look_back, :] = train_predict\n",
        "\n",
        "testPredictPlot = numpy.empty_like(df1)\n",
        "testPredictPlot[:, :] = numpy.nan\n",
        "testPredictPlot[len(train_predict)+(look_back*2)+1:len(df1)-1, :] = test_predict\n",
        "\n",
        "plt.plot(scaler.inverse_transform(df1))\n",
        "plt.plot(trainPredictPlot)\n",
        "plt.plot(testPredictPlot)\n",
        "plt.show()"
      ],
      "execution_count": 44,
      "outputs": [
        {
          "output_type": "display_data",
          "data": {
            "image/png": "[encoded data removed]",
            "text/plain": [
              "<Figure size 432x288 with 1 Axes>"
            ]
          },
          "metadata": {
            "tags": [],
            "needs_background": "light"
          }
        }
      ]
    },
    {
      "cell_type": "code",
      "metadata": {
        "id": "FX7YmMhLdfWg",
        "outputId": "833b582f-4dc0-440e-eb8a-367dd7400a6f",
        "colab": {
          "base_uri": "https://localhost:8080/",
          "height": 34
        }
      },
      "source": [
        "len(test_data)"
      ],
      "execution_count": 46,
      "outputs": [
        {
          "output_type": "execute_result",
          "data": {
            "text/plain": [
              "440"
            ]
          },
          "metadata": {
            "tags": []
          },
          "execution_count": 46
        }
      ]
    },
    {
      "cell_type": "code",
      "metadata": {
        "id": "eyVJmiRdclbb",
        "outputId": "76dd0c95-d6e1-4000-a395-83e6cefca694",
        "colab": {
          "base_uri": "https://localhost:8080/",
          "height": 34
        }
      },
      "source": [
        "x_input=test_data[340:].reshape(1,-1)\n",
        "x_input.shape"
      ],
      "execution_count": 47,
      "outputs": [
        {
          "output_type": "execute_result",
          "data": {
            "text/plain": [
              "(1, 100)"
            ]
          },
          "metadata": {
            "tags": []
          },
          "execution_count": 47
        }
      ]
    },
    {
      "cell_type": "code",
      "metadata": {
        "id": "SLv58fYfdy_J"
      },
      "source": [
        "temp_input=list(x_input)\n",
        "temp_input=temp_input[0].tolist()"
      ],
      "execution_count": 48,
      "outputs": []
    },
    {
      "cell_type": "code",
      "metadata": {
        "id": "Plsg1hezd-5j",
        "outputId": "ab056d8a-334f-4ee5-b690-95364f236c3e",
        "colab": {
          "base_uri": "https://localhost:8080/",
          "height": 1000
        }
      },
      "source": [
        "temp_input"
      ],
      "execution_count": 49,
      "outputs": [
        {
          "output_type": "execute_result",
          "data": {
            "text/plain": [
              "[0.5800601322910404,\n",
              " 0.584774503908599,\n",
              " 0.6101022248947685,\n",
              " 0.6313890559230306,\n",
              " 0.5906434155141311,\n",
              " 0.5976187612748045,\n",
              " 0.607696933253157,\n",
              " 0.6295610342754059,\n",
              " 0.6283824413710162,\n",
              " 0.628719182200842,\n",
              " 0.6238845460012028,\n",
              " 0.6458929645219482,\n",
              " 0.6643174984966926,\n",
              " 0.6487552615754661,\n",
              " 0.6602525556223691,\n",
              " 0.6332892363199039,\n",
              " 0.6528923631990378,\n",
              " 0.6601563439567049,\n",
              " 0.6584966927239928,\n",
              " 0.6584966927239928,\n",
              " 0.6819242333132893,\n",
              " 0.6791340950090199,\n",
              " 0.7000120264582081,\n",
              " 0.7039567047504509,\n",
              " 0.7055682501503309,\n",
              " 0.7013108839446784,\n",
              " 0.7165123271196634,\n",
              " 0.7229344558027659,\n",
              " 0.7113650030066145,\n",
              " 0.7094888755261575,\n",
              " 0.7290198436560433,\n",
              " 0.7159591100420926,\n",
              " 0.7185808779314491,\n",
              " 0.6759831629585087,\n",
              " 0.673770294648226,\n",
              " 0.6948887552615755,\n",
              " 0.6799037883343355,\n",
              " 0.6971016235718581,\n",
              " 0.7081659651232712,\n",
              " 0.8050511124473845,\n",
              " 0.830811785929044,\n",
              " 0.8378111846061336,\n",
              " 0.841635598316296,\n",
              " 0.8785808779314492,\n",
              " 0.8517378232110644,\n",
              " 0.8672760072158752,\n",
              " 0.8350210463018641,\n",
              " 0.8699939867708961,\n",
              " 0.8892363199037885,\n",
              " 0.8882501503307276,\n",
              " 0.8853638003607938,\n",
              " 0.89455201443175,\n",
              " 0.8959470835838845,\n",
              " 0.9206494287432352,\n",
              " 0.9792904389657247,\n",
              " 0.9936019242333134,\n",
              " 0.9836680697534577,\n",
              " 1.0,\n",
              " 0.9854479855682503,\n",
              " 0.983499699338545,\n",
              " 0.09308478653036678,\n",
              " 0.10544798556825014,\n",
              " 0.09876127480457003,\n",
              " 0.07345760673481655,\n",
              " 0.07365003006614551,\n",
              " 0.05407095610342749,\n",
              " 0.06489476849067943,\n",
              " 0.055682501503307225,\n",
              " 0.052098616957306054,\n",
              " 0.0601683704149128,\n",
              " 0.06061334936861096,\n",
              " 0.05241130487071555,\n",
              " 0.04810583283223091,\n",
              " 0.03968731208659049,\n",
              " 0.04748045700541187,\n",
              " 0.05164161154539987,\n",
              " 0.04036079374624174,\n",
              " 0.04300661455201443,\n",
              " 0.05277209861695731,\n",
              " 0.05921828021647624,\n",
              " 0.05712567648827421,\n",
              " 0.06126277811184605,\n",
              " 0.06361996392062536,\n",
              " 0.05455201443174984,\n",
              " 0.062922429344558,\n",
              " 0.05488875526157544,\n",
              " 0.059506915213469624,\n",
              " 0.059242333132892344,\n",
              " 0.06405291641611544,\n",
              " 0.08192423331328924,\n",
              " 0.07398677089597111,\n",
              " 0.07420324714371618,\n",
              " 0.07304870715574258,\n",
              " 0.06898376428141911,\n",
              " 0.061671677690920024,\n",
              " 0.06535177390258567,\n",
              " 0.06381238725195432,\n",
              " 0.06111846061334936,\n",
              " 0.059410703547805144,\n",
              " 0.05943475646422125]"
            ]
          },
          "metadata": {
            "tags": []
          },
          "execution_count": 49
        }
      ]
    },
    {
      "cell_type": "code",
      "metadata": {
        "id": "jfMo6hhseFmQ",
        "outputId": "cb894f21-d5b4-4341-94c6-782ea469078a",
        "colab": {
          "base_uri": "https://localhost:8080/",
          "height": 1000
        }
      },
      "source": [
        "from numpy import array\n",
        "\n",
        "lst_output=[]\n",
        "n_steps=100\n",
        "i=0\n",
        "while(i<30):\n",
        "    \n",
        "    if(len(temp_input)>100):\n",
        "        #print(temp_input)\n",
        "        x_input=np.array(temp_input[1:])\n",
        "        print(\"{} day input {}\".format(i,x_input))\n",
        "        x_input=x_input.reshape(1,-1)\n",
        "        x_input = x_input.reshape((1, n_steps, 1))\n",
        "        #print(x_input)\n",
        "        yhat = model.predict(x_input, verbose=0)\n",
        "        print(\"{} day output {}\".format(i,yhat))\n",
        "        temp_input.extend(yhat[0].tolist())\n",
        "        temp_input=temp_input[1:]\n",
        "        #print(temp_input)\n",
        "        lst_output.extend(yhat.tolist())\n",
        "        i=i+1\n",
        "    else:\n",
        "        x_input = x_input.reshape((1, n_steps,1))\n",
        "        yhat = model.predict(x_input, verbose=0)\n",
        "        print(yhat[0])\n",
        "        temp_input.extend(yhat[0].tolist())\n",
        "        print(len(temp_input))\n",
        "        lst_output.extend(yhat.tolist())\n",
        "        i=i+1\n",
        "    \n",
        "\n",
        "print(lst_output)"
      ],
      "execution_count": 50,
      "outputs": [
        {
          "output_type": "stream",
          "text": [
            "[0.02930396]\n",
            "101\n",
            "1 day input [0.5847745  0.61010222 0.63138906 0.59064342 0.59761876 0.60769693\n",
            " 0.62956103 0.62838244 0.62871918 0.62388455 0.64589296 0.6643175\n",
            " 0.64875526 0.66025256 0.63328924 0.65289236 0.66015634 0.65849669\n",
            " 0.65849669 0.68192423 0.6791341  0.70001203 0.7039567  0.70556825\n",
            " 0.70131088 0.71651233 0.72293446 0.711365   0.70948888 0.72901984\n",
            " 0.71595911 0.71858088 0.67598316 0.67377029 0.69488876 0.67990379\n",
            " 0.69710162 0.70816597 0.80505111 0.83081179 0.83781118 0.8416356\n",
            " 0.87858088 0.85173782 0.86727601 0.83502105 0.86999399 0.88923632\n",
            " 0.88825015 0.8853638  0.89455201 0.89594708 0.92064943 0.97929044\n",
            " 0.99360192 0.98366807 1.         0.98544799 0.9834997  0.09308479\n",
            " 0.10544799 0.09876127 0.07345761 0.07365003 0.05407096 0.06489477\n",
            " 0.0556825  0.05209862 0.06016837 0.06061335 0.0524113  0.04810583\n",
            " 0.03968731 0.04748046 0.05164161 0.04036079 0.04300661 0.0527721\n",
            " 0.05921828 0.05712568 0.06126278 0.06361996 0.05455201 0.06292243\n",
            " 0.05488876 0.05950692 0.05924233 0.06405292 0.08192423 0.07398677\n",
            " 0.07420325 0.07304871 0.06898376 0.06167168 0.06535177 0.06381239\n",
            " 0.06111846 0.0594107  0.05943476 0.02930396]\n",
            "1 day output [[0.02891881]]\n",
            "2 day input [0.61010222 0.63138906 0.59064342 0.59761876 0.60769693 0.62956103\n",
            " 0.62838244 0.62871918 0.62388455 0.64589296 0.6643175  0.64875526\n",
            " 0.66025256 0.63328924 0.65289236 0.66015634 0.65849669 0.65849669\n",
            " 0.68192423 0.6791341  0.70001203 0.7039567  0.70556825 0.70131088\n",
            " 0.71651233 0.72293446 0.711365   0.70948888 0.72901984 0.71595911\n",
            " 0.71858088 0.67598316 0.67377029 0.69488876 0.67990379 0.69710162\n",
            " 0.70816597 0.80505111 0.83081179 0.83781118 0.8416356  0.87858088\n",
            " 0.85173782 0.86727601 0.83502105 0.86999399 0.88923632 0.88825015\n",
            " 0.8853638  0.89455201 0.89594708 0.92064943 0.97929044 0.99360192\n",
            " 0.98366807 1.         0.98544799 0.9834997  0.09308479 0.10544799\n",
            " 0.09876127 0.07345761 0.07365003 0.05407096 0.06489477 0.0556825\n",
            " 0.05209862 0.06016837 0.06061335 0.0524113  0.04810583 0.03968731\n",
            " 0.04748046 0.05164161 0.04036079 0.04300661 0.0527721  0.05921828\n",
            " 0.05712568 0.06126278 0.06361996 0.05455201 0.06292243 0.05488876\n",
            " 0.05950692 0.05924233 0.06405292 0.08192423 0.07398677 0.07420325\n",
            " 0.07304871 0.06898376 0.06167168 0.06535177 0.06381239 0.06111846\n",
            " 0.0594107  0.05943476 0.02930396 0.02891881]\n",
            "2 day output [[0.02655319]]\n",
            "3 day input [0.63138906 0.59064342 0.59761876 0.60769693 0.62956103 0.62838244\n",
            " 0.62871918 0.62388455 0.64589296 0.6643175  0.64875526 0.66025256\n",
            " 0.63328924 0.65289236 0.66015634 0.65849669 0.65849669 0.68192423\n",
            " 0.6791341  0.70001203 0.7039567  0.70556825 0.70131088 0.71651233\n",
            " 0.72293446 0.711365   0.70948888 0.72901984 0.71595911 0.71858088\n",
            " 0.67598316 0.67377029 0.69488876 0.67990379 0.69710162 0.70816597\n",
            " 0.80505111 0.83081179 0.83781118 0.8416356  0.87858088 0.85173782\n",
            " 0.86727601 0.83502105 0.86999399 0.88923632 0.88825015 0.8853638\n",
            " 0.89455201 0.89594708 0.92064943 0.97929044 0.99360192 0.98366807\n",
            " 1.         0.98544799 0.9834997  0.09308479 0.10544799 0.09876127\n",
            " 0.07345761 0.07365003 0.05407096 0.06489477 0.0556825  0.05209862\n",
            " 0.06016837 0.06061335 0.0524113  0.04810583 0.03968731 0.04748046\n",
            " 0.05164161 0.04036079 0.04300661 0.0527721  0.05921828 0.05712568\n",
            " 0.06126278 0.06361996 0.05455201 0.06292243 0.05488876 0.05950692\n",
            " 0.05924233 0.06405292 0.08192423 0.07398677 0.07420325 0.07304871\n",
            " 0.06898376 0.06167168 0.06535177 0.06381239 0.06111846 0.0594107\n",
            " 0.05943476 0.02930396 0.02891881 0.02655319]\n",
            "3 day output [[0.02312187]]\n",
            "4 day input [0.59064342 0.59761876 0.60769693 0.62956103 0.62838244 0.62871918\n",
            " 0.62388455 0.64589296 0.6643175  0.64875526 0.66025256 0.63328924\n",
            " 0.65289236 0.66015634 0.65849669 0.65849669 0.68192423 0.6791341\n",
            " 0.70001203 0.7039567  0.70556825 0.70131088 0.71651233 0.72293446\n",
            " 0.711365   0.70948888 0.72901984 0.71595911 0.71858088 0.67598316\n",
            " 0.67377029 0.69488876 0.67990379 0.69710162 0.70816597 0.80505111\n",
            " 0.83081179 0.83781118 0.8416356  0.87858088 0.85173782 0.86727601\n",
            " 0.83502105 0.86999399 0.88923632 0.88825015 0.8853638  0.89455201\n",
            " 0.89594708 0.92064943 0.97929044 0.99360192 0.98366807 1.\n",
            " 0.98544799 0.9834997  0.09308479 0.10544799 0.09876127 0.07345761\n",
            " 0.07365003 0.05407096 0.06489477 0.0556825  0.05209862 0.06016837\n",
            " 0.06061335 0.0524113  0.04810583 0.03968731 0.04748046 0.05164161\n",
            " 0.04036079 0.04300661 0.0527721  0.05921828 0.05712568 0.06126278\n",
            " 0.06361996 0.05455201 0.06292243 0.05488876 0.05950692 0.05924233\n",
            " 0.06405292 0.08192423 0.07398677 0.07420325 0.07304871 0.06898376\n",
            " 0.06167168 0.06535177 0.06381239 0.06111846 0.0594107  0.05943476\n",
            " 0.02930396 0.02891881 0.02655319 0.02312187]\n",
            "4 day output [[0.0194885]]\n",
            "5 day input [0.59761876 0.60769693 0.62956103 0.62838244 0.62871918 0.62388455\n",
            " 0.64589296 0.6643175  0.64875526 0.66025256 0.63328924 0.65289236\n",
            " 0.66015634 0.65849669 0.65849669 0.68192423 0.6791341  0.70001203\n",
            " 0.7039567  0.70556825 0.70131088 0.71651233 0.72293446 0.711365\n",
            " 0.70948888 0.72901984 0.71595911 0.71858088 0.67598316 0.67377029\n",
            " 0.69488876 0.67990379 0.69710162 0.70816597 0.80505111 0.83081179\n",
            " 0.83781118 0.8416356  0.87858088 0.85173782 0.86727601 0.83502105\n",
            " 0.86999399 0.88923632 0.88825015 0.8853638  0.89455201 0.89594708\n",
            " 0.92064943 0.97929044 0.99360192 0.98366807 1.         0.98544799\n",
            " 0.9834997  0.09308479 0.10544799 0.09876127 0.07345761 0.07365003\n",
            " 0.05407096 0.06489477 0.0556825  0.05209862 0.06016837 0.06061335\n",
            " 0.0524113  0.04810583 0.03968731 0.04748046 0.05164161 0.04036079\n",
            " 0.04300661 0.0527721  0.05921828 0.05712568 0.06126278 0.06361996\n",
            " 0.05455201 0.06292243 0.05488876 0.05950692 0.05924233 0.06405292\n",
            " 0.08192423 0.07398677 0.07420325 0.07304871 0.06898376 0.06167168\n",
            " 0.06535177 0.06381239 0.06111846 0.0594107  0.05943476 0.02930396\n",
            " 0.02891881 0.02655319 0.02312187 0.0194885 ]\n",
            "5 day output [[0.01622357]]\n",
            "6 day input [0.60769693 0.62956103 0.62838244 0.62871918 0.62388455 0.64589296\n",
            " 0.6643175  0.64875526 0.66025256 0.63328924 0.65289236 0.66015634\n",
            " 0.65849669 0.65849669 0.68192423 0.6791341  0.70001203 0.7039567\n",
            " 0.70556825 0.70131088 0.71651233 0.72293446 0.711365   0.70948888\n",
            " 0.72901984 0.71595911 0.71858088 0.67598316 0.67377029 0.69488876\n",
            " 0.67990379 0.69710162 0.70816597 0.80505111 0.83081179 0.83781118\n",
            " 0.8416356  0.87858088 0.85173782 0.86727601 0.83502105 0.86999399\n",
            " 0.88923632 0.88825015 0.8853638  0.89455201 0.89594708 0.92064943\n",
            " 0.97929044 0.99360192 0.98366807 1.         0.98544799 0.9834997\n",
            " 0.09308479 0.10544799 0.09876127 0.07345761 0.07365003 0.05407096\n",
            " 0.06489477 0.0556825  0.05209862 0.06016837 0.06061335 0.0524113\n",
            " 0.04810583 0.03968731 0.04748046 0.05164161 0.04036079 0.04300661\n",
            " 0.0527721  0.05921828 0.05712568 0.06126278 0.06361996 0.05455201\n",
            " 0.06292243 0.05488876 0.05950692 0.05924233 0.06405292 0.08192423\n",
            " 0.07398677 0.07420325 0.07304871 0.06898376 0.06167168 0.06535177\n",
            " 0.06381239 0.06111846 0.0594107  0.05943476 0.02930396 0.02891881\n",
            " 0.02655319 0.02312187 0.0194885  0.01622357]\n",
            "6 day output [[0.01361422]]\n",
            "7 day input [0.62956103 0.62838244 0.62871918 0.62388455 0.64589296 0.6643175\n",
            " 0.64875526 0.66025256 0.63328924 0.65289236 0.66015634 0.65849669\n",
            " 0.65849669 0.68192423 0.6791341  0.70001203 0.7039567  0.70556825\n",
            " 0.70131088 0.71651233 0.72293446 0.711365   0.70948888 0.72901984\n",
            " 0.71595911 0.71858088 0.67598316 0.67377029 0.69488876 0.67990379\n",
            " 0.69710162 0.70816597 0.80505111 0.83081179 0.83781118 0.8416356\n",
            " 0.87858088 0.85173782 0.86727601 0.83502105 0.86999399 0.88923632\n",
            " 0.88825015 0.8853638  0.89455201 0.89594708 0.92064943 0.97929044\n",
            " 0.99360192 0.98366807 1.         0.98544799 0.9834997  0.09308479\n",
            " 0.10544799 0.09876127 0.07345761 0.07365003 0.05407096 0.06489477\n",
            " 0.0556825  0.05209862 0.06016837 0.06061335 0.0524113  0.04810583\n",
            " 0.03968731 0.04748046 0.05164161 0.04036079 0.04300661 0.0527721\n",
            " 0.05921828 0.05712568 0.06126278 0.06361996 0.05455201 0.06292243\n",
            " 0.05488876 0.05950692 0.05924233 0.06405292 0.08192423 0.07398677\n",
            " 0.07420325 0.07304871 0.06898376 0.06167168 0.06535177 0.06381239\n",
            " 0.06111846 0.0594107  0.05943476 0.02930396 0.02891881 0.02655319\n",
            " 0.02312187 0.0194885  0.01622357 0.01361422]\n",
            "7 day output [[0.01174376]]\n",
            "8 day input [0.62838244 0.62871918 0.62388455 0.64589296 0.6643175  0.64875526\n",
            " 0.66025256 0.63328924 0.65289236 0.66015634 0.65849669 0.65849669\n",
            " 0.68192423 0.6791341  0.70001203 0.7039567  0.70556825 0.70131088\n",
            " 0.71651233 0.72293446 0.711365   0.70948888 0.72901984 0.71595911\n",
            " 0.71858088 0.67598316 0.67377029 0.69488876 0.67990379 0.69710162\n",
            " 0.70816597 0.80505111 0.83081179 0.83781118 0.8416356  0.87858088\n",
            " 0.85173782 0.86727601 0.83502105 0.86999399 0.88923632 0.88825015\n",
            " 0.8853638  0.89455201 0.89594708 0.92064943 0.97929044 0.99360192\n",
            " 0.98366807 1.         0.98544799 0.9834997  0.09308479 0.10544799\n",
            " 0.09876127 0.07345761 0.07365003 0.05407096 0.06489477 0.0556825\n",
            " 0.05209862 0.06016837 0.06061335 0.0524113  0.04810583 0.03968731\n",
            " 0.04748046 0.05164161 0.04036079 0.04300661 0.0527721  0.05921828\n",
            " 0.05712568 0.06126278 0.06361996 0.05455201 0.06292243 0.05488876\n",
            " 0.05950692 0.05924233 0.06405292 0.08192423 0.07398677 0.07420325\n",
            " 0.07304871 0.06898376 0.06167168 0.06535177 0.06381239 0.06111846\n",
            " 0.0594107  0.05943476 0.02930396 0.02891881 0.02655319 0.02312187\n",
            " 0.0194885  0.01622357 0.01361422 0.01174376]\n",
            "8 day output [[0.01057889]]\n",
            "9 day input [0.62871918 0.62388455 0.64589296 0.6643175  0.64875526 0.66025256\n",
            " 0.63328924 0.65289236 0.66015634 0.65849669 0.65849669 0.68192423\n",
            " 0.6791341  0.70001203 0.7039567  0.70556825 0.70131088 0.71651233\n",
            " 0.72293446 0.711365   0.70948888 0.72901984 0.71595911 0.71858088\n",
            " 0.67598316 0.67377029 0.69488876 0.67990379 0.69710162 0.70816597\n",
            " 0.80505111 0.83081179 0.83781118 0.8416356  0.87858088 0.85173782\n",
            " 0.86727601 0.83502105 0.86999399 0.88923632 0.88825015 0.8853638\n",
            " 0.89455201 0.89594708 0.92064943 0.97929044 0.99360192 0.98366807\n",
            " 1.         0.98544799 0.9834997  0.09308479 0.10544799 0.09876127\n",
            " 0.07345761 0.07365003 0.05407096 0.06489477 0.0556825  0.05209862\n",
            " 0.06016837 0.06061335 0.0524113  0.04810583 0.03968731 0.04748046\n",
            " 0.05164161 0.04036079 0.04300661 0.0527721  0.05921828 0.05712568\n",
            " 0.06126278 0.06361996 0.05455201 0.06292243 0.05488876 0.05950692\n",
            " 0.05924233 0.06405292 0.08192423 0.07398677 0.07420325 0.07304871\n",
            " 0.06898376 0.06167168 0.06535177 0.06381239 0.06111846 0.0594107\n",
            " 0.05943476 0.02930396 0.02891881 0.02655319 0.02312187 0.0194885\n",
            " 0.01622357 0.01361422 0.01174376 0.01057889]\n",
            "9 day output [[0.01002974]]\n",
            "10 day input [0.62388455 0.64589296 0.6643175  0.64875526 0.66025256 0.63328924\n",
            " 0.65289236 0.66015634 0.65849669 0.65849669 0.68192423 0.6791341\n",
            " 0.70001203 0.7039567  0.70556825 0.70131088 0.71651233 0.72293446\n",
            " 0.711365   0.70948888 0.72901984 0.71595911 0.71858088 0.67598316\n",
            " 0.67377029 0.69488876 0.67990379 0.69710162 0.70816597 0.80505111\n",
            " 0.83081179 0.83781118 0.8416356  0.87858088 0.85173782 0.86727601\n",
            " 0.83502105 0.86999399 0.88923632 0.88825015 0.8853638  0.89455201\n",
            " 0.89594708 0.92064943 0.97929044 0.99360192 0.98366807 1.\n",
            " 0.98544799 0.9834997  0.09308479 0.10544799 0.09876127 0.07345761\n",
            " 0.07365003 0.05407096 0.06489477 0.0556825  0.05209862 0.06016837\n",
            " 0.06061335 0.0524113  0.04810583 0.03968731 0.04748046 0.05164161\n",
            " 0.04036079 0.04300661 0.0527721  0.05921828 0.05712568 0.06126278\n",
            " 0.06361996 0.05455201 0.06292243 0.05488876 0.05950692 0.05924233\n",
            " 0.06405292 0.08192423 0.07398677 0.07420325 0.07304871 0.06898376\n",
            " 0.06167168 0.06535177 0.06381239 0.06111846 0.0594107  0.05943476\n",
            " 0.02930396 0.02891881 0.02655319 0.02312187 0.0194885  0.01622357\n",
            " 0.01361422 0.01174376 0.01057889 0.01002974]\n",
            "10 day output [[0.00998769]]\n",
            "11 day input [0.64589296 0.6643175  0.64875526 0.66025256 0.63328924 0.65289236\n",
            " 0.66015634 0.65849669 0.65849669 0.68192423 0.6791341  0.70001203\n",
            " 0.7039567  0.70556825 0.70131088 0.71651233 0.72293446 0.711365\n",
            " 0.70948888 0.72901984 0.71595911 0.71858088 0.67598316 0.67377029\n",
            " 0.69488876 0.67990379 0.69710162 0.70816597 0.80505111 0.83081179\n",
            " 0.83781118 0.8416356  0.87858088 0.85173782 0.86727601 0.83502105\n",
            " 0.86999399 0.88923632 0.88825015 0.8853638  0.89455201 0.89594708\n",
            " 0.92064943 0.97929044 0.99360192 0.98366807 1.         0.98544799\n",
            " 0.9834997  0.09308479 0.10544799 0.09876127 0.07345761 0.07365003\n",
            " 0.05407096 0.06489477 0.0556825  0.05209862 0.06016837 0.06061335\n",
            " 0.0524113  0.04810583 0.03968731 0.04748046 0.05164161 0.04036079\n",
            " 0.04300661 0.0527721  0.05921828 0.05712568 0.06126278 0.06361996\n",
            " 0.05455201 0.06292243 0.05488876 0.05950692 0.05924233 0.06405292\n",
            " 0.08192423 0.07398677 0.07420325 0.07304871 0.06898376 0.06167168\n",
            " 0.06535177 0.06381239 0.06111846 0.0594107  0.05943476 0.02930396\n",
            " 0.02891881 0.02655319 0.02312187 0.0194885  0.01622357 0.01361422\n",
            " 0.01174376 0.01057889 0.01002974 0.00998769]\n",
            "11 day output [[0.01034289]]\n",
            "12 day input [0.6643175  0.64875526 0.66025256 0.63328924 0.65289236 0.66015634\n",
            " 0.65849669 0.65849669 0.68192423 0.6791341  0.70001203 0.7039567\n",
            " 0.70556825 0.70131088 0.71651233 0.72293446 0.711365   0.70948888\n",
            " 0.72901984 0.71595911 0.71858088 0.67598316 0.67377029 0.69488876\n",
            " 0.67990379 0.69710162 0.70816597 0.80505111 0.83081179 0.83781118\n",
            " 0.8416356  0.87858088 0.85173782 0.86727601 0.83502105 0.86999399\n",
            " 0.88923632 0.88825015 0.8853638  0.89455201 0.89594708 0.92064943\n",
            " 0.97929044 0.99360192 0.98366807 1.         0.98544799 0.9834997\n",
            " 0.09308479 0.10544799 0.09876127 0.07345761 0.07365003 0.05407096\n",
            " 0.06489477 0.0556825  0.05209862 0.06016837 0.06061335 0.0524113\n",
            " 0.04810583 0.03968731 0.04748046 0.05164161 0.04036079 0.04300661\n",
            " 0.0527721  0.05921828 0.05712568 0.06126278 0.06361996 0.05455201\n",
            " 0.06292243 0.05488876 0.05950692 0.05924233 0.06405292 0.08192423\n",
            " 0.07398677 0.07420325 0.07304871 0.06898376 0.06167168 0.06535177\n",
            " 0.06381239 0.06111846 0.0594107  0.05943476 0.02930396 0.02891881\n",
            " 0.02655319 0.02312187 0.0194885  0.01622357 0.01361422 0.01174376\n",
            " 0.01057889 0.01002974 0.00998769 0.01034289]\n",
            "12 day output [[0.01099345]]\n",
            "13 day input [0.64875526 0.66025256 0.63328924 0.65289236 0.66015634 0.65849669\n",
            " 0.65849669 0.68192423 0.6791341  0.70001203 0.7039567  0.70556825\n",
            " 0.70131088 0.71651233 0.72293446 0.711365   0.70948888 0.72901984\n",
            " 0.71595911 0.71858088 0.67598316 0.67377029 0.69488876 0.67990379\n",
            " 0.69710162 0.70816597 0.80505111 0.83081179 0.83781118 0.8416356\n",
            " 0.87858088 0.85173782 0.86727601 0.83502105 0.86999399 0.88923632\n",
            " 0.88825015 0.8853638  0.89455201 0.89594708 0.92064943 0.97929044\n",
            " 0.99360192 0.98366807 1.         0.98544799 0.9834997  0.09308479\n",
            " 0.10544799 0.09876127 0.07345761 0.07365003 0.05407096 0.06489477\n",
            " 0.0556825  0.05209862 0.06016837 0.06061335 0.0524113  0.04810583\n",
            " 0.03968731 0.04748046 0.05164161 0.04036079 0.04300661 0.0527721\n",
            " 0.05921828 0.05712568 0.06126278 0.06361996 0.05455201 0.06292243\n",
            " 0.05488876 0.05950692 0.05924233 0.06405292 0.08192423 0.07398677\n",
            " 0.07420325 0.07304871 0.06898376 0.06167168 0.06535177 0.06381239\n",
            " 0.06111846 0.0594107  0.05943476 0.02930396 0.02891881 0.02655319\n",
            " 0.02312187 0.0194885  0.01622357 0.01361422 0.01174376 0.01057889\n",
            " 0.01002974 0.00998769 0.01034289 0.01099345]\n",
            "13 day output [[0.0118471]]\n",
            "14 day input [0.66025256 0.63328924 0.65289236 0.66015634 0.65849669 0.65849669\n",
            " 0.68192423 0.6791341  0.70001203 0.7039567  0.70556825 0.70131088\n",
            " 0.71651233 0.72293446 0.711365   0.70948888 0.72901984 0.71595911\n",
            " 0.71858088 0.67598316 0.67377029 0.69488876 0.67990379 0.69710162\n",
            " 0.70816597 0.80505111 0.83081179 0.83781118 0.8416356  0.87858088\n",
            " 0.85173782 0.86727601 0.83502105 0.86999399 0.88923632 0.88825015\n",
            " 0.8853638  0.89455201 0.89594708 0.92064943 0.97929044 0.99360192\n",
            " 0.98366807 1.         0.98544799 0.9834997  0.09308479 0.10544799\n",
            " 0.09876127 0.07345761 0.07365003 0.05407096 0.06489477 0.0556825\n",
            " 0.05209862 0.06016837 0.06061335 0.0524113  0.04810583 0.03968731\n",
            " 0.04748046 0.05164161 0.04036079 0.04300661 0.0527721  0.05921828\n",
            " 0.05712568 0.06126278 0.06361996 0.05455201 0.06292243 0.05488876\n",
            " 0.05950692 0.05924233 0.06405292 0.08192423 0.07398677 0.07420325\n",
            " 0.07304871 0.06898376 0.06167168 0.06535177 0.06381239 0.06111846\n",
            " 0.0594107  0.05943476 0.02930396 0.02891881 0.02655319 0.02312187\n",
            " 0.0194885  0.01622357 0.01361422 0.01174376 0.01057889 0.01002974\n",
            " 0.00998769 0.01034289 0.01099345 0.0118471 ]\n",
            "14 day output [[0.01282268]]\n",
            "15 day input [0.63328924 0.65289236 0.66015634 0.65849669 0.65849669 0.68192423\n",
            " 0.6791341  0.70001203 0.7039567  0.70556825 0.70131088 0.71651233\n",
            " 0.72293446 0.711365   0.70948888 0.72901984 0.71595911 0.71858088\n",
            " 0.67598316 0.67377029 0.69488876 0.67990379 0.69710162 0.70816597\n",
            " 0.80505111 0.83081179 0.83781118 0.8416356  0.87858088 0.85173782\n",
            " 0.86727601 0.83502105 0.86999399 0.88923632 0.88825015 0.8853638\n",
            " 0.89455201 0.89594708 0.92064943 0.97929044 0.99360192 0.98366807\n",
            " 1.         0.98544799 0.9834997  0.09308479 0.10544799 0.09876127\n",
            " 0.07345761 0.07365003 0.05407096 0.06489477 0.0556825  0.05209862\n",
            " 0.06016837 0.06061335 0.0524113  0.04810583 0.03968731 0.04748046\n",
            " 0.05164161 0.04036079 0.04300661 0.0527721  0.05921828 0.05712568\n",
            " 0.06126278 0.06361996 0.05455201 0.06292243 0.05488876 0.05950692\n",
            " 0.05924233 0.06405292 0.08192423 0.07398677 0.07420325 0.07304871\n",
            " 0.06898376 0.06167168 0.06535177 0.06381239 0.06111846 0.0594107\n",
            " 0.05943476 0.02930396 0.02891881 0.02655319 0.02312187 0.0194885\n",
            " 0.01622357 0.01361422 0.01174376 0.01057889 0.01002974 0.00998769\n",
            " 0.01034289 0.01099345 0.0118471  0.01282268]\n",
            "15 day output [[0.01385263]]\n",
            "16 day input [0.65289236 0.66015634 0.65849669 0.65849669 0.68192423 0.6791341\n",
            " 0.70001203 0.7039567  0.70556825 0.70131088 0.71651233 0.72293446\n",
            " 0.711365   0.70948888 0.72901984 0.71595911 0.71858088 0.67598316\n",
            " 0.67377029 0.69488876 0.67990379 0.69710162 0.70816597 0.80505111\n",
            " 0.83081179 0.83781118 0.8416356  0.87858088 0.85173782 0.86727601\n",
            " 0.83502105 0.86999399 0.88923632 0.88825015 0.8853638  0.89455201\n",
            " 0.89594708 0.92064943 0.97929044 0.99360192 0.98366807 1.\n",
            " 0.98544799 0.9834997  0.09308479 0.10544799 0.09876127 0.07345761\n",
            " 0.07365003 0.05407096 0.06489477 0.0556825  0.05209862 0.06016837\n",
            " 0.06061335 0.0524113  0.04810583 0.03968731 0.04748046 0.05164161\n",
            " 0.04036079 0.04300661 0.0527721  0.05921828 0.05712568 0.06126278\n",
            " 0.06361996 0.05455201 0.06292243 0.05488876 0.05950692 0.05924233\n",
            " 0.06405292 0.08192423 0.07398677 0.07420325 0.07304871 0.06898376\n",
            " 0.06167168 0.06535177 0.06381239 0.06111846 0.0594107  0.05943476\n",
            " 0.02930396 0.02891881 0.02655319 0.02312187 0.0194885  0.01622357\n",
            " 0.01361422 0.01174376 0.01057889 0.01002974 0.00998769 0.01034289\n",
            " 0.01099345 0.0118471  0.01282268 0.01385263]\n",
            "16 day output [[0.01488021]]\n",
            "17 day input [0.66015634 0.65849669 0.65849669 0.68192423 0.6791341  0.70001203\n",
            " 0.7039567  0.70556825 0.70131088 0.71651233 0.72293446 0.711365\n",
            " 0.70948888 0.72901984 0.71595911 0.71858088 0.67598316 0.67377029\n",
            " 0.69488876 0.67990379 0.69710162 0.70816597 0.80505111 0.83081179\n",
            " 0.83781118 0.8416356  0.87858088 0.85173782 0.86727601 0.83502105\n",
            " 0.86999399 0.88923632 0.88825015 0.8853638  0.89455201 0.89594708\n",
            " 0.92064943 0.97929044 0.99360192 0.98366807 1.         0.98544799\n",
            " 0.9834997  0.09308479 0.10544799 0.09876127 0.07345761 0.07365003\n",
            " 0.05407096 0.06489477 0.0556825  0.05209862 0.06016837 0.06061335\n",
            " 0.0524113  0.04810583 0.03968731 0.04748046 0.05164161 0.04036079\n",
            " 0.04300661 0.0527721  0.05921828 0.05712568 0.06126278 0.06361996\n",
            " 0.05455201 0.06292243 0.05488876 0.05950692 0.05924233 0.06405292\n",
            " 0.08192423 0.07398677 0.07420325 0.07304871 0.06898376 0.06167168\n",
            " 0.06535177 0.06381239 0.06111846 0.0594107  0.05943476 0.02930396\n",
            " 0.02891881 0.02655319 0.02312187 0.0194885  0.01622357 0.01361422\n",
            " 0.01174376 0.01057889 0.01002974 0.00998769 0.01034289 0.01099345\n",
            " 0.0118471  0.01282268 0.01385263 0.01488021]\n",
            "17 day output [[0.0158627]]\n",
            "18 day input [0.65849669 0.65849669 0.68192423 0.6791341  0.70001203 0.7039567\n",
            " 0.70556825 0.70131088 0.71651233 0.72293446 0.711365   0.70948888\n",
            " 0.72901984 0.71595911 0.71858088 0.67598316 0.67377029 0.69488876\n",
            " 0.67990379 0.69710162 0.70816597 0.80505111 0.83081179 0.83781118\n",
            " 0.8416356  0.87858088 0.85173782 0.86727601 0.83502105 0.86999399\n",
            " 0.88923632 0.88825015 0.8853638  0.89455201 0.89594708 0.92064943\n",
            " 0.97929044 0.99360192 0.98366807 1.         0.98544799 0.9834997\n",
            " 0.09308479 0.10544799 0.09876127 0.07345761 0.07365003 0.05407096\n",
            " 0.06489477 0.0556825  0.05209862 0.06016837 0.06061335 0.0524113\n",
            " 0.04810583 0.03968731 0.04748046 0.05164161 0.04036079 0.04300661\n",
            " 0.0527721  0.05921828 0.05712568 0.06126278 0.06361996 0.05455201\n",
            " 0.06292243 0.05488876 0.05950692 0.05924233 0.06405292 0.08192423\n",
            " 0.07398677 0.07420325 0.07304871 0.06898376 0.06167168 0.06535177\n",
            " 0.06381239 0.06111846 0.0594107  0.05943476 0.02930396 0.02891881\n",
            " 0.02655319 0.02312187 0.0194885  0.01622357 0.01361422 0.01174376\n",
            " 0.01057889 0.01002974 0.00998769 0.01034289 0.01099345 0.0118471\n",
            " 0.01282268 0.01385263 0.01488021 0.0158627 ]\n",
            "18 day output [[0.01676782]]\n",
            "19 day input [0.65849669 0.68192423 0.6791341  0.70001203 0.7039567  0.70556825\n",
            " 0.70131088 0.71651233 0.72293446 0.711365   0.70948888 0.72901984\n",
            " 0.71595911 0.71858088 0.67598316 0.67377029 0.69488876 0.67990379\n",
            " 0.69710162 0.70816597 0.80505111 0.83081179 0.83781118 0.8416356\n",
            " 0.87858088 0.85173782 0.86727601 0.83502105 0.86999399 0.88923632\n",
            " 0.88825015 0.8853638  0.89455201 0.89594708 0.92064943 0.97929044\n",
            " 0.99360192 0.98366807 1.         0.98544799 0.9834997  0.09308479\n",
            " 0.10544799 0.09876127 0.07345761 0.07365003 0.05407096 0.06489477\n",
            " 0.0556825  0.05209862 0.06016837 0.06061335 0.0524113  0.04810583\n",
            " 0.03968731 0.04748046 0.05164161 0.04036079 0.04300661 0.0527721\n",
            " 0.05921828 0.05712568 0.06126278 0.06361996 0.05455201 0.06292243\n",
            " 0.05488876 0.05950692 0.05924233 0.06405292 0.08192423 0.07398677\n",
            " 0.07420325 0.07304871 0.06898376 0.06167168 0.06535177 0.06381239\n",
            " 0.06111846 0.0594107  0.05943476 0.02930396 0.02891881 0.02655319\n",
            " 0.02312187 0.0194885  0.01622357 0.01361422 0.01174376 0.01057889\n",
            " 0.01002974 0.00998769 0.01034289 0.01099345 0.0118471  0.01282268\n",
            " 0.01385263 0.01488021 0.0158627  0.01676782]\n",
            "19 day output [[0.01757445]]\n",
            "20 day input [0.68192423 0.6791341  0.70001203 0.7039567  0.70556825 0.70131088\n",
            " 0.71651233 0.72293446 0.711365   0.70948888 0.72901984 0.71595911\n",
            " 0.71858088 0.67598316 0.67377029 0.69488876 0.67990379 0.69710162\n",
            " 0.70816597 0.80505111 0.83081179 0.83781118 0.8416356  0.87858088\n",
            " 0.85173782 0.86727601 0.83502105 0.86999399 0.88923632 0.88825015\n",
            " 0.8853638  0.89455201 0.89594708 0.92064943 0.97929044 0.99360192\n",
            " 0.98366807 1.         0.98544799 0.9834997  0.09308479 0.10544799\n",
            " 0.09876127 0.07345761 0.07365003 0.05407096 0.06489477 0.0556825\n",
            " 0.05209862 0.06016837 0.06061335 0.0524113  0.04810583 0.03968731\n",
            " 0.04748046 0.05164161 0.04036079 0.04300661 0.0527721  0.05921828\n",
            " 0.05712568 0.06126278 0.06361996 0.05455201 0.06292243 0.05488876\n",
            " 0.05950692 0.05924233 0.06405292 0.08192423 0.07398677 0.07420325\n",
            " 0.07304871 0.06898376 0.06167168 0.06535177 0.06381239 0.06111846\n",
            " 0.0594107  0.05943476 0.02930396 0.02891881 0.02655319 0.02312187\n",
            " 0.0194885  0.01622357 0.01361422 0.01174376 0.01057889 0.01002974\n",
            " 0.00998769 0.01034289 0.01099345 0.0118471  0.01282268 0.01385263\n",
            " 0.01488021 0.0158627  0.01676782 0.01757445]\n",
            "20 day output [[0.0182716]]\n",
            "21 day input [0.6791341  0.70001203 0.7039567  0.70556825 0.70131088 0.71651233\n",
            " 0.72293446 0.711365   0.70948888 0.72901984 0.71595911 0.71858088\n",
            " 0.67598316 0.67377029 0.69488876 0.67990379 0.69710162 0.70816597\n",
            " 0.80505111 0.83081179 0.83781118 0.8416356  0.87858088 0.85173782\n",
            " 0.86727601 0.83502105 0.86999399 0.88923632 0.88825015 0.8853638\n",
            " 0.89455201 0.89594708 0.92064943 0.97929044 0.99360192 0.98366807\n",
            " 1.         0.98544799 0.9834997  0.09308479 0.10544799 0.09876127\n",
            " 0.07345761 0.07365003 0.05407096 0.06489477 0.0556825  0.05209862\n",
            " 0.06016837 0.06061335 0.0524113  0.04810583 0.03968731 0.04748046\n",
            " 0.05164161 0.04036079 0.04300661 0.0527721  0.05921828 0.05712568\n",
            " 0.06126278 0.06361996 0.05455201 0.06292243 0.05488876 0.05950692\n",
            " 0.05924233 0.06405292 0.08192423 0.07398677 0.07420325 0.07304871\n",
            " 0.06898376 0.06167168 0.06535177 0.06381239 0.06111846 0.0594107\n",
            " 0.05943476 0.02930396 0.02891881 0.02655319 0.02312187 0.0194885\n",
            " 0.01622357 0.01361422 0.01174376 0.01057889 0.01002974 0.00998769\n",
            " 0.01034289 0.01099345 0.0118471  0.01282268 0.01385263 0.01488021\n",
            " 0.0158627  0.01676782 0.01757445 0.0182716 ]\n",
            "21 day output [[0.01885713]]\n",
            "22 day input [0.70001203 0.7039567  0.70556825 0.70131088 0.71651233 0.72293446\n",
            " 0.711365   0.70948888 0.72901984 0.71595911 0.71858088 0.67598316\n",
            " 0.67377029 0.69488876 0.67990379 0.69710162 0.70816597 0.80505111\n",
            " 0.83081179 0.83781118 0.8416356  0.87858088 0.85173782 0.86727601\n",
            " 0.83502105 0.86999399 0.88923632 0.88825015 0.8853638  0.89455201\n",
            " 0.89594708 0.92064943 0.97929044 0.99360192 0.98366807 1.\n",
            " 0.98544799 0.9834997  0.09308479 0.10544799 0.09876127 0.07345761\n",
            " 0.07365003 0.05407096 0.06489477 0.0556825  0.05209862 0.06016837\n",
            " 0.06061335 0.0524113  0.04810583 0.03968731 0.04748046 0.05164161\n",
            " 0.04036079 0.04300661 0.0527721  0.05921828 0.05712568 0.06126278\n",
            " 0.06361996 0.05455201 0.06292243 0.05488876 0.05950692 0.05924233\n",
            " 0.06405292 0.08192423 0.07398677 0.07420325 0.07304871 0.06898376\n",
            " 0.06167168 0.06535177 0.06381239 0.06111846 0.0594107  0.05943476\n",
            " 0.02930396 0.02891881 0.02655319 0.02312187 0.0194885  0.01622357\n",
            " 0.01361422 0.01174376 0.01057889 0.01002974 0.00998769 0.01034289\n",
            " 0.01099345 0.0118471  0.01282268 0.01385263 0.01488021 0.0158627\n",
            " 0.01676782 0.01757445 0.0182716  0.01885713]\n",
            "22 day output [[0.01933498]]\n",
            "23 day input [0.7039567  0.70556825 0.70131088 0.71651233 0.72293446 0.711365\n",
            " 0.70948888 0.72901984 0.71595911 0.71858088 0.67598316 0.67377029\n",
            " 0.69488876 0.67990379 0.69710162 0.70816597 0.80505111 0.83081179\n",
            " 0.83781118 0.8416356  0.87858088 0.85173782 0.86727601 0.83502105\n",
            " 0.86999399 0.88923632 0.88825015 0.8853638  0.89455201 0.89594708\n",
            " 0.92064943 0.97929044 0.99360192 0.98366807 1.         0.98544799\n",
            " 0.9834997  0.09308479 0.10544799 0.09876127 0.07345761 0.07365003\n",
            " 0.05407096 0.06489477 0.0556825  0.05209862 0.06016837 0.06061335\n",
            " 0.0524113  0.04810583 0.03968731 0.04748046 0.05164161 0.04036079\n",
            " 0.04300661 0.0527721  0.05921828 0.05712568 0.06126278 0.06361996\n",
            " 0.05455201 0.06292243 0.05488876 0.05950692 0.05924233 0.06405292\n",
            " 0.08192423 0.07398677 0.07420325 0.07304871 0.06898376 0.06167168\n",
            " 0.06535177 0.06381239 0.06111846 0.0594107  0.05943476 0.02930396\n",
            " 0.02891881 0.02655319 0.02312187 0.0194885  0.01622357 0.01361422\n",
            " 0.01174376 0.01057889 0.01002974 0.00998769 0.01034289 0.01099345\n",
            " 0.0118471  0.01282268 0.01385263 0.01488021 0.0158627  0.01676782\n",
            " 0.01757445 0.0182716  0.01885713 0.01933498]\n",
            "23 day output [[0.01971537]]\n",
            "24 day input [0.70556825 0.70131088 0.71651233 0.72293446 0.711365   0.70948888\n",
            " 0.72901984 0.71595911 0.71858088 0.67598316 0.67377029 0.69488876\n",
            " 0.67990379 0.69710162 0.70816597 0.80505111 0.83081179 0.83781118\n",
            " 0.8416356  0.87858088 0.85173782 0.86727601 0.83502105 0.86999399\n",
            " 0.88923632 0.88825015 0.8853638  0.89455201 0.89594708 0.92064943\n",
            " 0.97929044 0.99360192 0.98366807 1.         0.98544799 0.9834997\n",
            " 0.09308479 0.10544799 0.09876127 0.07345761 0.07365003 0.05407096\n",
            " 0.06489477 0.0556825  0.05209862 0.06016837 0.06061335 0.0524113\n",
            " 0.04810583 0.03968731 0.04748046 0.05164161 0.04036079 0.04300661\n",
            " 0.0527721  0.05921828 0.05712568 0.06126278 0.06361996 0.05455201\n",
            " 0.06292243 0.05488876 0.05950692 0.05924233 0.06405292 0.08192423\n",
            " 0.07398677 0.07420325 0.07304871 0.06898376 0.06167168 0.06535177\n",
            " 0.06381239 0.06111846 0.0594107  0.05943476 0.02930396 0.02891881\n",
            " 0.02655319 0.02312187 0.0194885  0.01622357 0.01361422 0.01174376\n",
            " 0.01057889 0.01002974 0.00998769 0.01034289 0.01099345 0.0118471\n",
            " 0.01282268 0.01385263 0.01488021 0.0158627  0.01676782 0.01757445\n",
            " 0.0182716  0.01885713 0.01933498 0.01971537]\n",
            "24 day output [[0.02001153]]\n",
            "25 day input [0.70131088 0.71651233 0.72293446 0.711365   0.70948888 0.72901984\n",
            " 0.71595911 0.71858088 0.67598316 0.67377029 0.69488876 0.67990379\n",
            " 0.69710162 0.70816597 0.80505111 0.83081179 0.83781118 0.8416356\n",
            " 0.87858088 0.85173782 0.86727601 0.83502105 0.86999399 0.88923632\n",
            " 0.88825015 0.8853638  0.89455201 0.89594708 0.92064943 0.97929044\n",
            " 0.99360192 0.98366807 1.         0.98544799 0.9834997  0.09308479\n",
            " 0.10544799 0.09876127 0.07345761 0.07365003 0.05407096 0.06489477\n",
            " 0.0556825  0.05209862 0.06016837 0.06061335 0.0524113  0.04810583\n",
            " 0.03968731 0.04748046 0.05164161 0.04036079 0.04300661 0.0527721\n",
            " 0.05921828 0.05712568 0.06126278 0.06361996 0.05455201 0.06292243\n",
            " 0.05488876 0.05950692 0.05924233 0.06405292 0.08192423 0.07398677\n",
            " 0.07420325 0.07304871 0.06898376 0.06167168 0.06535177 0.06381239\n",
            " 0.06111846 0.0594107  0.05943476 0.02930396 0.02891881 0.02655319\n",
            " 0.02312187 0.0194885  0.01622357 0.01361422 0.01174376 0.01057889\n",
            " 0.01002974 0.00998769 0.01034289 0.01099345 0.0118471  0.01282268\n",
            " 0.01385263 0.01488021 0.0158627  0.01676782 0.01757445 0.0182716\n",
            " 0.01885713 0.01933498 0.01971537 0.02001153]\n",
            "25 day output [[0.02023928]]\n",
            "26 day input [0.71651233 0.72293446 0.711365   0.70948888 0.72901984 0.71595911\n",
            " 0.71858088 0.67598316 0.67377029 0.69488876 0.67990379 0.69710162\n",
            " 0.70816597 0.80505111 0.83081179 0.83781118 0.8416356  0.87858088\n",
            " 0.85173782 0.86727601 0.83502105 0.86999399 0.88923632 0.88825015\n",
            " 0.8853638  0.89455201 0.89594708 0.92064943 0.97929044 0.99360192\n",
            " 0.98366807 1.         0.98544799 0.9834997  0.09308479 0.10544799\n",
            " 0.09876127 0.07345761 0.07365003 0.05407096 0.06489477 0.0556825\n",
            " 0.05209862 0.06016837 0.06061335 0.0524113  0.04810583 0.03968731\n",
            " 0.04748046 0.05164161 0.04036079 0.04300661 0.0527721  0.05921828\n",
            " 0.05712568 0.06126278 0.06361996 0.05455201 0.06292243 0.05488876\n",
            " 0.05950692 0.05924233 0.06405292 0.08192423 0.07398677 0.07420325\n",
            " 0.07304871 0.06898376 0.06167168 0.06535177 0.06381239 0.06111846\n",
            " 0.0594107  0.05943476 0.02930396 0.02891881 0.02655319 0.02312187\n",
            " 0.0194885  0.01622357 0.01361422 0.01174376 0.01057889 0.01002974\n",
            " 0.00998769 0.01034289 0.01099345 0.0118471  0.01282268 0.01385263\n",
            " 0.01488021 0.0158627  0.01676782 0.01757445 0.0182716  0.01885713\n",
            " 0.01933498 0.01971537 0.02001153 0.02023928]\n",
            "26 day output [[0.0204153]]\n",
            "27 day input [0.72293446 0.711365   0.70948888 0.72901984 0.71595911 0.71858088\n",
            " 0.67598316 0.67377029 0.69488876 0.67990379 0.69710162 0.70816597\n",
            " 0.80505111 0.83081179 0.83781118 0.8416356  0.87858088 0.85173782\n",
            " 0.86727601 0.83502105 0.86999399 0.88923632 0.88825015 0.8853638\n",
            " 0.89455201 0.89594708 0.92064943 0.97929044 0.99360192 0.98366807\n",
            " 1.         0.98544799 0.9834997  0.09308479 0.10544799 0.09876127\n",
            " 0.07345761 0.07365003 0.05407096 0.06489477 0.0556825  0.05209862\n",
            " 0.06016837 0.06061335 0.0524113  0.04810583 0.03968731 0.04748046\n",
            " 0.05164161 0.04036079 0.04300661 0.0527721  0.05921828 0.05712568\n",
            " 0.06126278 0.06361996 0.05455201 0.06292243 0.05488876 0.05950692\n",
            " 0.05924233 0.06405292 0.08192423 0.07398677 0.07420325 0.07304871\n",
            " 0.06898376 0.06167168 0.06535177 0.06381239 0.06111846 0.0594107\n",
            " 0.05943476 0.02930396 0.02891881 0.02655319 0.02312187 0.0194885\n",
            " 0.01622357 0.01361422 0.01174376 0.01057889 0.01002974 0.00998769\n",
            " 0.01034289 0.01099345 0.0118471  0.01282268 0.01385263 0.01488021\n",
            " 0.0158627  0.01676782 0.01757445 0.0182716  0.01885713 0.01933498\n",
            " 0.01971537 0.02001153 0.02023928 0.0204153 ]\n",
            "27 day output [[0.02055639]]\n",
            "28 day input [0.711365   0.70948888 0.72901984 0.71595911 0.71858088 0.67598316\n",
            " 0.67377029 0.69488876 0.67990379 0.69710162 0.70816597 0.80505111\n",
            " 0.83081179 0.83781118 0.8416356  0.87858088 0.85173782 0.86727601\n",
            " 0.83502105 0.86999399 0.88923632 0.88825015 0.8853638  0.89455201\n",
            " 0.89594708 0.92064943 0.97929044 0.99360192 0.98366807 1.\n",
            " 0.98544799 0.9834997  0.09308479 0.10544799 0.09876127 0.07345761\n",
            " 0.07365003 0.05407096 0.06489477 0.0556825  0.05209862 0.06016837\n",
            " 0.06061335 0.0524113  0.04810583 0.03968731 0.04748046 0.05164161\n",
            " 0.04036079 0.04300661 0.0527721  0.05921828 0.05712568 0.06126278\n",
            " 0.06361996 0.05455201 0.06292243 0.05488876 0.05950692 0.05924233\n",
            " 0.06405292 0.08192423 0.07398677 0.07420325 0.07304871 0.06898376\n",
            " 0.06167168 0.06535177 0.06381239 0.06111846 0.0594107  0.05943476\n",
            " 0.02930396 0.02891881 0.02655319 0.02312187 0.0194885  0.01622357\n",
            " 0.01361422 0.01174376 0.01057889 0.01002974 0.00998769 0.01034289\n",
            " 0.01099345 0.0118471  0.01282268 0.01385263 0.01488021 0.0158627\n",
            " 0.01676782 0.01757445 0.0182716  0.01885713 0.01933498 0.01971537\n",
            " 0.02001153 0.02023928 0.0204153  0.02055639]\n",
            "28 day output [[0.02067785]]\n",
            "29 day input [0.70948888 0.72901984 0.71595911 0.71858088 0.67598316 0.67377029\n",
            " 0.69488876 0.67990379 0.69710162 0.70816597 0.80505111 0.83081179\n",
            " 0.83781118 0.8416356  0.87858088 0.85173782 0.86727601 0.83502105\n",
            " 0.86999399 0.88923632 0.88825015 0.8853638  0.89455201 0.89594708\n",
            " 0.92064943 0.97929044 0.99360192 0.98366807 1.         0.98544799\n",
            " 0.9834997  0.09308479 0.10544799 0.09876127 0.07345761 0.07365003\n",
            " 0.05407096 0.06489477 0.0556825  0.05209862 0.06016837 0.06061335\n",
            " 0.0524113  0.04810583 0.03968731 0.04748046 0.05164161 0.04036079\n",
            " 0.04300661 0.0527721  0.05921828 0.05712568 0.06126278 0.06361996\n",
            " 0.05455201 0.06292243 0.05488876 0.05950692 0.05924233 0.06405292\n",
            " 0.08192423 0.07398677 0.07420325 0.07304871 0.06898376 0.06167168\n",
            " 0.06535177 0.06381239 0.06111846 0.0594107  0.05943476 0.02930396\n",
            " 0.02891881 0.02655319 0.02312187 0.0194885  0.01622357 0.01361422\n",
            " 0.01174376 0.01057889 0.01002974 0.00998769 0.01034289 0.01099345\n",
            " 0.0118471  0.01282268 0.01385263 0.01488021 0.0158627  0.01676782\n",
            " 0.01757445 0.0182716  0.01885713 0.01933498 0.01971537 0.02001153\n",
            " 0.02023928 0.0204153  0.02055639 0.02067785]\n",
            "29 day output [[0.02079319]]\n",
            "[[0.029303964227437973], [0.028918810188770294], [0.026553187519311905], [0.023121867328882217], [0.019488496705889702], [0.016223570331931114], [0.013614220544695854], [0.011743756011128426], [0.010578889399766922], [0.010029740631580353], [0.009987691417336464], [0.01034289225935936], [0.010993445292115211], [0.011847095564007759], [0.012822680175304413], [0.013852627016603947], [0.014880208298563957], [0.01586269587278366], [0.016767822206020355], [0.01757444627583027], [0.01827160269021988], [0.01885712519288063], [0.019334983080625534], [0.01971536874771118], [0.020011533051729202], [0.02023928239941597], [0.020415300503373146], [0.020556388422846794], [0.020677845925092697], [0.020793188363313675]]\n"
          ],
          "name": "stdout"
        }
      ]
    },
    {
      "cell_type": "code",
      "metadata": {
        "id": "GrM8PKQ8hEJ_"
      },
      "source": [
        "day_new=np.arange(1,101)\n",
        "day_pred=np.arange(101,131)"
      ],
      "execution_count": 51,
      "outputs": []
    },
    {
      "cell_type": "code",
      "metadata": {
        "id": "NkIpYPfbhIC1"
      },
      "source": [
        "import matplotlib.pyplot as plt"
      ],
      "execution_count": 52,
      "outputs": []
    },
    {
      "cell_type": "code",
      "metadata": {
        "id": "WylsKCtehJs7",
        "outputId": "b46afbe9-29bc-4565-b961-b11fca68fb94",
        "colab": {
          "base_uri": "https://localhost:8080/",
          "height": 34
        }
      },
      "source": [
        "len(df1)"
      ],
      "execution_count": 53,
      "outputs": [
        {
          "output_type": "execute_result",
          "data": {
            "text/plain": [
              "1257"
            ]
          },
          "metadata": {
            "tags": []
          },
          "execution_count": 53
        }
      ]
    },
    {
      "cell_type": "code",
      "metadata": {
        "id": "Z8ugSPPwhK9i",
        "outputId": "29c1e9be-0d9c-43e9-c61e-5f14af4e124a",
        "colab": {
          "base_uri": "https://localhost:8080/",
          "height": 282
        }
      },
      "source": [
        "plt.plot(day_new,scaler.inverse_transform(df1[1157:]))\n",
        "plt.plot(day_pred,scaler.inverse_transform(lst_output))"
      ],
      "execution_count": 55,
      "outputs": [
        {
          "output_type": "execute_result",
          "data": {
            "text/plain": [
              "[<matplotlib.lines.Line2D at 0x7f3faf6c4a58>]"
            ]
          },
          "metadata": {
            "tags": []
          },
          "execution_count": 55
        },
        {
          "output_type": "display_data",
          "data": {
            "image/png": "[encoded data removed]",
            "text/plain": [
              "<Figure size 432x288 with 1 Axes>"
            ]
          },
          "metadata": {
            "tags": [],
            "needs_background": "light"
          }
        }
      ]
    },
    {
      "cell_type": "code",
      "metadata": {
        "id": "qUEUIZt6hO3l",
        "outputId": "e957a3e8-1cb4-476c-cdd3-132a0af68da0",
        "colab": {
          "base_uri": "https://localhost:8080/",
          "height": 282
        }
      },
      "source": [
        "df3=df1.tolist()\n",
        "df3.extend(lst_output)\n",
        "plt.plot(df3[1200:])"
      ],
      "execution_count": 56,
      "outputs": [
        {
          "output_type": "execute_result",
          "data": {
            "text/plain": [
              "[<matplotlib.lines.Line2D at 0x7f3f61369860>]"
            ]
          },
          "metadata": {
            "tags": []
          },
          "execution_count": 56
        },
        {
          "output_type": "display_data",
          "data": {
            "image/png": "[encoded data removed]",
            "text/plain": [
              "<Figure size 432x288 with 1 Axes>"
            ]
          },
          "metadata": {
            "tags": [],
            "needs_background": "light"
          }
        }
      ]
    },
    {
      "cell_type": "code",
      "metadata": {
        "id": "Ieo7tNUuhW6K"
      },
      "source": [
        "df3=scaler.inverse_transform(df3).tolist()"
      ],
      "execution_count": 57,
      "outputs": []
    },
    {
      "cell_type": "code",
      "metadata": {
        "id": "eBNhSDc7hanw",
        "outputId": "e58d85bc-c6bf-411d-9d3a-e1ea4c7bc5f6",
        "colab": {
          "base_uri": "https://localhost:8080/",
          "height": 282
        }
      },
      "source": [
        "plt.plot(df3)"
      ],
      "execution_count": 58,
      "outputs": [
        {
          "output_type": "execute_result",
          "data": {
            "text/plain": [
              "[<matplotlib.lines.Line2D at 0x7f3f6125da20>]"
            ]
          },
          "metadata": {
            "tags": []
          },
          "execution_count": 58
        },
        {
          "output_type": "display_data",
          "data": {
            "image/png": "[encoded data removed]",
            "text/plain": [
              "<Figure size 432x288 with 1 Axes>"
            ]
          },
          "metadata": {
            "tags": [],
            "needs_background": "light"
          }
        }
      ]
    },
    {
      "cell_type": "code",
      "metadata": {
        "id": "WEP9bpNLhcEQ"
      },
      "source": [
        ""
      ],
      "execution_count": null,
      "outputs": []
    }
  ]
}